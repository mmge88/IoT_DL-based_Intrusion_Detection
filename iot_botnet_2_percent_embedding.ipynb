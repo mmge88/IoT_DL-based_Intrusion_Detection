{
  "nbformat": 4,
  "nbformat_minor": 0,
  "metadata": {
    "colab": {
      "name": "botnet_2_percent_embedding.ipynb",
      "provenance": [],
      "collapsed_sections": [
        "qTYmOd2iw5Uc",
        "X8Lx7NLE9g4n",
        "LPS9wUeVhFMt",
        "S-L33R2DjPYR",
        "Y63Zm_aTH_Fd",
        "UE47NDr3IGQ7",
        "Xs_NvZDa2P0w",
        "y5JvODa70LP2",
        "Jsqoc0yNT1lS",
        "OQjlEQ3kS7O-"
      ]
    },
    "kernelspec": {
      "display_name": "Python 3",
      "language": "python",
      "name": "python3"
    },
    "language_info": {
      "codemirror_mode": {
        "name": "ipython",
        "version": 3
      },
      "file_extension": ".py",
      "mimetype": "text/x-python",
      "name": "python",
      "nbconvert_exporter": "python",
      "pygments_lexer": "ipython3",
      "version": "3.6.3"
    }
  },
  "cells": [
    {
      "cell_type": "markdown",
      "metadata": {
        "id": "qTYmOd2iw5Uc"
      },
      "source": [
        "##Load dataset from CSV"
      ]
    },
    {
      "cell_type": "code",
      "metadata": {
        "id": "qI8i511Nw-yP",
        "outputId": "9e78dbd2-8627-4252-b027-4ae8d3dea6eb",
        "colab": {
          "base_uri": "https://localhost:8080/",
          "height": 34
        }
      },
      "source": [
        "from google.colab import drive\n",
        "drive.mount('/content/drive')"
      ],
      "execution_count": null,
      "outputs": [
        {
          "output_type": "stream",
          "text": [
            "Mounted at /content/drive\n"
          ],
          "name": "stdout"
        }
      ]
    },
    {
      "cell_type": "code",
      "metadata": {
        "id": "sv8tNgxxqCLa",
        "outputId": "ce982726-4d5b-46ec-9ea5-355f4b143c8c",
        "colab": {
          "base_uri": "https://localhost:8080/",
          "height": 34
        }
      },
      "source": [
        "import pandas as pd\n",
        "import numpy as np\n",
        "import tensorflow as tf\n",
        "import matplotlib.pyplot as plt\n",
        "#print(tf.__version__)\n",
        "import gc\n",
        "gc.collect()"
      ],
      "execution_count": null,
      "outputs": [
        {
          "output_type": "execute_result",
          "data": {
            "text/plain": [
              "22"
            ]
          },
          "metadata": {
            "tags": []
          },
          "execution_count": 2
        }
      ]
    },
    {
      "cell_type": "code",
      "metadata": {
        "id": "yOdPLjCyIh9Q"
      },
      "source": [
        "df = pd.read_csv(\"drive/My Drive/dataset/dataset_2_percent_processed.csv\")"
      ],
      "execution_count": null,
      "outputs": []
    },
    {
      "cell_type": "markdown",
      "metadata": {
        "id": "X8Lx7NLE9g4n"
      },
      "source": [
        "##Remove timestamp column and redundant rows"
      ]
    },
    {
      "cell_type": "code",
      "metadata": {
        "id": "LjlzzIRH9nI8"
      },
      "source": [
        "#Remove timestamp columns\n",
        "dfu = df.drop(['frame.time_epoch'], axis=1)\n",
        "#Remove redundant rows\n",
        "dfu = dfu[~dfu.duplicated()]\n",
        "del df"
      ],
      "execution_count": null,
      "outputs": []
    },
    {
      "cell_type": "code",
      "metadata": {
        "id": "5GUAt4OMyqzQ",
        "outputId": "b0ac3526-7b20-4bf2-9f5f-201b4169ea45",
        "colab": {
          "base_uri": "https://localhost:8080/",
          "height": 246
        }
      },
      "source": [
        "dfu[['category', 'subcategory']].groupby(['category', 'subcategory']).size()"
      ],
      "execution_count": null,
      "outputs": [
        {
          "output_type": "execute_result",
          "data": {
            "text/plain": [
              "category  subcategory      \n",
              "DDoS      DDoS_HTTP             194417\n",
              "          DDoS_TCP              999444\n",
              "          DDoS_UDP             1000054\n",
              "DoS       DoS_HTTP              287480\n",
              "          DoS_TCP               998703\n",
              "          DoS_UDP               999977\n",
              "Normal    Normal               2543626\n",
              "Scan      OS                    827058\n",
              "          Service               999895\n",
              "Theft     Data_Exfiltration     301710\n",
              "          Keylogging             11387\n",
              "dtype: int64"
            ]
          },
          "metadata": {
            "tags": []
          },
          "execution_count": 5
        }
      ]
    },
    {
      "cell_type": "code",
      "metadata": {
        "id": "i0TpXDWVXqYQ",
        "outputId": "48613f3e-b726-4127-e89b-57ba179abd77",
        "colab": {
          "base_uri": "https://localhost:8080/",
          "height": 510
        }
      },
      "source": [
        "dfu.dtypes"
      ],
      "execution_count": null,
      "outputs": [
        {
          "output_type": "execute_result",
          "data": {
            "text/plain": [
              "frame.len                     int64\n",
              "ip.proto                    float64\n",
              "srcport                     float64\n",
              "dstport                     float64\n",
              "trans.stream                float64\n",
              "trans.length                float64\n",
              "tcp.analysis.initial_rtt    float64\n",
              "tcp.time_delta              float64\n",
              "tcp.time_relative           float64\n",
              "tcp.flags                     int64\n",
              "tcp.window_size_value       float64\n",
              "tcp.hdr_len                 float64\n",
              "http.response.code          float64\n",
              "http.request.method          object\n",
              "http.content_length         float64\n",
              "ip.ttl_1                    float64\n",
              "ip.ttl_2                    float64\n",
              "ip.hdr_len_1                float64\n",
              "ip.hdr_len_2                float64\n",
              "ip.len_1                    float64\n",
              "ip.len_2                    float64\n",
              "ip.id_1                       int64\n",
              "ip.id_2                       int64\n",
              "ip.flags.df                 float64\n",
              "attack                        int64\n",
              "category                     object\n",
              "subcategory                  object\n",
              "dtype: object"
            ]
          },
          "metadata": {
            "tags": []
          },
          "execution_count": 5
        }
      ]
    },
    {
      "cell_type": "code",
      "metadata": {
        "id": "181VWeOxlSXG",
        "outputId": "0520f8e3-abdf-4c2c-d278-1fa200927c64",
        "colab": {
          "base_uri": "https://localhost:8080/",
          "height": 510
        }
      },
      "source": [
        "dfu.count()"
      ],
      "execution_count": null,
      "outputs": [
        {
          "output_type": "execute_result",
          "data": {
            "text/plain": [
              "frame.len                   9163751\n",
              "ip.proto                    9163751\n",
              "srcport                     9163751\n",
              "dstport                     9163751\n",
              "trans.stream                9163751\n",
              "trans.length                9163751\n",
              "tcp.analysis.initial_rtt    9163751\n",
              "tcp.time_delta              9163751\n",
              "tcp.time_relative           9163751\n",
              "tcp.flags                   9163751\n",
              "tcp.window_size_value       9163751\n",
              "tcp.hdr_len                 9163751\n",
              "http.response.code          9163751\n",
              "http.request.method         9163751\n",
              "http.content_length         9163751\n",
              "ip.ttl_1                    9163751\n",
              "ip.ttl_2                    9163751\n",
              "ip.hdr_len_1                9163751\n",
              "ip.hdr_len_2                9163751\n",
              "ip.len_1                    9163751\n",
              "ip.len_2                    9163751\n",
              "ip.id_1                     9163751\n",
              "ip.id_2                     9163751\n",
              "ip.flags.df                 9163751\n",
              "attack                      9163751\n",
              "category                    9163751\n",
              "subcategory                 9163751\n",
              "dtype: int64"
            ]
          },
          "metadata": {
            "tags": []
          },
          "execution_count": 6
        }
      ]
    },
    {
      "cell_type": "markdown",
      "metadata": {
        "id": "LPS9wUeVhFMt"
      },
      "source": [
        "##Check categorical columns"
      ]
    },
    {
      "cell_type": "code",
      "metadata": {
        "id": "GAc7B_I9undR",
        "outputId": "3a8b81cd-c9fa-4f4b-c8b7-7732cc317e72",
        "colab": {
          "base_uri": "https://localhost:8080/",
          "height": 527
        }
      },
      "source": [
        "df.dtypes"
      ],
      "execution_count": null,
      "outputs": [
        {
          "output_type": "execute_result",
          "data": {
            "text/plain": [
              "frame.time_epoch            float64\n",
              "frame.len                     int64\n",
              "ip.proto                    float64\n",
              "srcport                     float64\n",
              "dstport                     float64\n",
              "trans.stream                float64\n",
              "trans.length                float64\n",
              "tcp.analysis.initial_rtt    float64\n",
              "tcp.time_delta              float64\n",
              "tcp.time_relative           float64\n",
              "tcp.flags                     int64\n",
              "tcp.window_size_value       float64\n",
              "tcp.hdr_len                 float64\n",
              "http.response.code          float64\n",
              "http.request.method          object\n",
              "http.content_length         float64\n",
              "ip.ttl_1                    float64\n",
              "ip.ttl_2                    float64\n",
              "ip.hdr_len_1                float64\n",
              "ip.hdr_len_2                float64\n",
              "ip.len_1                    float64\n",
              "ip.len_2                    float64\n",
              "ip.id_1                       int64\n",
              "ip.id_2                       int64\n",
              "ip.flags.df                 float64\n",
              "attack                        int64\n",
              "category                     object\n",
              "subcategory                  object\n",
              "dtype: object"
            ]
          },
          "metadata": {
            "tags": []
          },
          "execution_count": 7
        }
      ]
    },
    {
      "cell_type": "code",
      "metadata": {
        "id": "fN8KnoH5uZGl",
        "outputId": "cce5039c-0f95-4b26-e2de-044134a3da12",
        "colab": {
          "base_uri": "https://localhost:8080/",
          "height": 130
        }
      },
      "source": [
        "df[df['ip.ttl_2'] != 0.0].groupby('attack').count()"
      ],
      "execution_count": null,
      "outputs": [
        {
          "output_type": "execute_result",
          "data": {
            "text/html": [
              "<div>\n",
              "<style scoped>\n",
              "    .dataframe tbody tr th:only-of-type {\n",
              "        vertical-align: middle;\n",
              "    }\n",
              "\n",
              "    .dataframe tbody tr th {\n",
              "        vertical-align: top;\n",
              "    }\n",
              "\n",
              "    .dataframe thead th {\n",
              "        text-align: right;\n",
              "    }\n",
              "</style>\n",
              "<table border=\"1\" class=\"dataframe\">\n",
              "  <thead>\n",
              "    <tr style=\"text-align: right;\">\n",
              "      <th></th>\n",
              "      <th>frame.time_epoch</th>\n",
              "      <th>frame.len</th>\n",
              "      <th>ip.proto</th>\n",
              "      <th>srcport</th>\n",
              "      <th>dstport</th>\n",
              "      <th>trans.stream</th>\n",
              "      <th>trans.length</th>\n",
              "      <th>tcp.analysis.initial_rtt</th>\n",
              "      <th>tcp.time_delta</th>\n",
              "      <th>tcp.time_relative</th>\n",
              "      <th>tcp.flags</th>\n",
              "      <th>tcp.window_size_value</th>\n",
              "      <th>tcp.hdr_len</th>\n",
              "      <th>http.response.code</th>\n",
              "      <th>http.request.method</th>\n",
              "      <th>http.content_length</th>\n",
              "      <th>ip.ttl_1</th>\n",
              "      <th>ip.ttl_2</th>\n",
              "      <th>ip.hdr_len_1</th>\n",
              "      <th>ip.hdr_len_2</th>\n",
              "      <th>ip.len_1</th>\n",
              "      <th>ip.len_2</th>\n",
              "      <th>ip.id_1</th>\n",
              "      <th>ip.id_2</th>\n",
              "      <th>ip.flags.df</th>\n",
              "      <th>category</th>\n",
              "      <th>subcategory</th>\n",
              "    </tr>\n",
              "    <tr>\n",
              "      <th>attack</th>\n",
              "      <th></th>\n",
              "      <th></th>\n",
              "      <th></th>\n",
              "      <th></th>\n",
              "      <th></th>\n",
              "      <th></th>\n",
              "      <th></th>\n",
              "      <th></th>\n",
              "      <th></th>\n",
              "      <th></th>\n",
              "      <th></th>\n",
              "      <th></th>\n",
              "      <th></th>\n",
              "      <th></th>\n",
              "      <th></th>\n",
              "      <th></th>\n",
              "      <th></th>\n",
              "      <th></th>\n",
              "      <th></th>\n",
              "      <th></th>\n",
              "      <th></th>\n",
              "      <th></th>\n",
              "      <th></th>\n",
              "      <th></th>\n",
              "      <th></th>\n",
              "      <th></th>\n",
              "      <th></th>\n",
              "    </tr>\n",
              "  </thead>\n",
              "  <tbody>\n",
              "    <tr>\n",
              "      <th>0</th>\n",
              "      <td>133324</td>\n",
              "      <td>133324</td>\n",
              "      <td>133324</td>\n",
              "      <td>133324</td>\n",
              "      <td>133324</td>\n",
              "      <td>133324</td>\n",
              "      <td>133324</td>\n",
              "      <td>133324</td>\n",
              "      <td>133324</td>\n",
              "      <td>133324</td>\n",
              "      <td>133324</td>\n",
              "      <td>133324</td>\n",
              "      <td>133324</td>\n",
              "      <td>133324</td>\n",
              "      <td>133324</td>\n",
              "      <td>133324</td>\n",
              "      <td>133324</td>\n",
              "      <td>133324</td>\n",
              "      <td>133324</td>\n",
              "      <td>133324</td>\n",
              "      <td>133324</td>\n",
              "      <td>133324</td>\n",
              "      <td>133324</td>\n",
              "      <td>133324</td>\n",
              "      <td>133324</td>\n",
              "      <td>133324</td>\n",
              "      <td>133324</td>\n",
              "    </tr>\n",
              "  </tbody>\n",
              "</table>\n",
              "</div>"
            ],
            "text/plain": [
              "        frame.time_epoch  frame.len  ...  category  subcategory\n",
              "attack                               ...                       \n",
              "0                 133324     133324  ...    133324       133324\n",
              "\n",
              "[1 rows x 27 columns]"
            ]
          },
          "metadata": {
            "tags": []
          },
          "execution_count": 9
        }
      ]
    },
    {
      "cell_type": "code",
      "metadata": {
        "id": "N3n_0oqofF18",
        "outputId": "bcf871b7-5352-4962-99dd-8e9edbd03b73",
        "colab": {
          "base_uri": "https://localhost:8080/",
          "height": 70
        }
      },
      "source": [
        "dfu['subcategory'].unique()"
      ],
      "execution_count": null,
      "outputs": [
        {
          "output_type": "execute_result",
          "data": {
            "text/plain": [
              "array(['Normal', 'DDoS_HTTP', 'DoS_HTTP', 'OS', 'Service', 'DDoS_TCP',\n",
              "       'DoS_TCP', 'DDoS_UDP', 'DoS_UDP', 'Data_Exfiltration',\n",
              "       'Keylogging'], dtype=object)"
            ]
          },
          "metadata": {
            "tags": []
          },
          "execution_count": 6
        }
      ]
    },
    {
      "cell_type": "code",
      "metadata": {
        "id": "C97cFrr7XdVq",
        "outputId": "5afc45b3-dc4a-493c-c010-63818ad0c340",
        "colab": {
          "base_uri": "https://localhost:8080/",
          "height": 35
        }
      },
      "source": [
        "dfu['ip.proto'].unique()"
      ],
      "execution_count": null,
      "outputs": [
        {
          "output_type": "execute_result",
          "data": {
            "text/plain": [
              "array([ 6., 17.,  0.,  1.,  4.,  3.,  2.])"
            ]
          },
          "metadata": {
            "tags": []
          },
          "execution_count": 7
        }
      ]
    },
    {
      "cell_type": "code",
      "metadata": {
        "id": "jSaPYtinX4uo",
        "outputId": "8316e7ca-7f70-4715-d51e-2d21d8cdebf0",
        "colab": {
          "base_uri": "https://localhost:8080/",
          "height": 52
        }
      },
      "source": [
        "dfu['tcp.flags'].unique()"
      ],
      "execution_count": null,
      "outputs": [
        {
          "output_type": "execute_result",
          "data": {
            "text/plain": [
              "array([   0, 2243,   16,   24,    2,   18,   17,   20,    4,   25, 2242,\n",
              "         82,   43,   41,    1])"
            ]
          },
          "metadata": {
            "tags": []
          },
          "execution_count": 8
        }
      ]
    },
    {
      "cell_type": "code",
      "metadata": {
        "id": "6qlcI10nX86g",
        "outputId": "673579b3-8fec-4feb-ab58-ae677ca8d0de",
        "colab": {
          "base_uri": "https://localhost:8080/",
          "height": 35
        }
      },
      "source": [
        "dfu['ip.flags.df'].unique()"
      ],
      "execution_count": null,
      "outputs": [
        {
          "output_type": "execute_result",
          "data": {
            "text/plain": [
              "array([0., 1., 4., 2., 3.])"
            ]
          },
          "metadata": {
            "tags": []
          },
          "execution_count": 9
        }
      ]
    },
    {
      "cell_type": "code",
      "metadata": {
        "id": "LAKvJA8NYDOQ",
        "outputId": "1b586ea3-c841-4d08-d368-2eac71a305a6",
        "colab": {
          "base_uri": "https://localhost:8080/",
          "height": 52
        }
      },
      "source": [
        "dfu['http.response.code'].unique()"
      ],
      "execution_count": null,
      "outputs": [
        {
          "output_type": "execute_result",
          "data": {
            "text/plain": [
              "array([  0., 404., 200., 505., 405., 501., 302., 400., 301., 403., 408.,\n",
              "       401.])"
            ]
          },
          "metadata": {
            "tags": []
          },
          "execution_count": 10
        }
      ]
    },
    {
      "cell_type": "code",
      "metadata": {
        "id": "uw14XFLni86Y",
        "outputId": "54593da0-3681-4785-da33-4554686ea469",
        "colab": {
          "base_uri": "https://localhost:8080/",
          "height": 35
        }
      },
      "source": [
        "len(dfu['dstport'].unique())"
      ],
      "execution_count": null,
      "outputs": [
        {
          "output_type": "execute_result",
          "data": {
            "text/plain": [
              "65529"
            ]
          },
          "metadata": {
            "tags": []
          },
          "execution_count": 29
        }
      ]
    },
    {
      "cell_type": "code",
      "metadata": {
        "id": "5Uq_ThVMbDnM"
      },
      "source": [
        "len(dfu['http.request.method'].unique())"
      ],
      "execution_count": null,
      "outputs": []
    },
    {
      "cell_type": "code",
      "metadata": {
        "id": "R5AL4_yucGqO",
        "outputId": "81950e19-0a56-4a2b-fc3f-2e0e9b89e4df",
        "colab": {
          "base_uri": "https://localhost:8080/",
          "height": 437
        }
      },
      "source": [
        "dfu.groupby(['frame.len', 'ip.proto', 'srcport', 'dstport', 'trans.stream', 'trans.length', \n",
        "             'tcp.analysis.initial_rtt', 'tcp.time_delta', 'tcp.time_relative', 'tcp.flags', 'tcp.window_size_value', 'tcp.hdr_len',\n",
        "             'http.response.code', 'http.request.method', 'http.content_length',\n",
        "             'ip.ttl_1', 'ip.ttl_2', 'ip.hdr_len_1', 'ip.hdr_len_2', 'ip.len_1', 'ip.len_2', 'ip.id_1', 'ip.id_2', \n",
        "             'ip.flags.df'])['category'].value_counts().unstack(fill_value=0).reset_index().rename_axis(None, axis=1)"
      ],
      "execution_count": null,
      "outputs": [
        {
          "output_type": "execute_result",
          "data": {
            "text/html": [
              "<div>\n",
              "<style scoped>\n",
              "    .dataframe tbody tr th:only-of-type {\n",
              "        vertical-align: middle;\n",
              "    }\n",
              "\n",
              "    .dataframe tbody tr th {\n",
              "        vertical-align: top;\n",
              "    }\n",
              "\n",
              "    .dataframe thead th {\n",
              "        text-align: right;\n",
              "    }\n",
              "</style>\n",
              "<table border=\"1\" class=\"dataframe\">\n",
              "  <thead>\n",
              "    <tr style=\"text-align: right;\">\n",
              "      <th></th>\n",
              "      <th>frame.len</th>\n",
              "      <th>ip.proto</th>\n",
              "      <th>srcport</th>\n",
              "      <th>dstport</th>\n",
              "      <th>trans.stream</th>\n",
              "      <th>trans.length</th>\n",
              "      <th>tcp.analysis.initial_rtt</th>\n",
              "      <th>tcp.time_delta</th>\n",
              "      <th>tcp.time_relative</th>\n",
              "      <th>tcp.flags</th>\n",
              "      <th>tcp.window_size_value</th>\n",
              "      <th>tcp.hdr_len</th>\n",
              "      <th>http.response.code</th>\n",
              "      <th>http.request.method</th>\n",
              "      <th>http.content_length</th>\n",
              "      <th>ip.ttl_1</th>\n",
              "      <th>ip.ttl_2</th>\n",
              "      <th>ip.hdr_len_1</th>\n",
              "      <th>ip.hdr_len_2</th>\n",
              "      <th>ip.len_1</th>\n",
              "      <th>ip.len_2</th>\n",
              "      <th>ip.id_1</th>\n",
              "      <th>ip.id_2</th>\n",
              "      <th>ip.flags.df</th>\n",
              "      <th>DDoS</th>\n",
              "      <th>DoS</th>\n",
              "      <th>Normal</th>\n",
              "      <th>Scan</th>\n",
              "      <th>Theft</th>\n",
              "    </tr>\n",
              "  </thead>\n",
              "  <tbody>\n",
              "    <tr>\n",
              "      <th>0</th>\n",
              "      <td>42</td>\n",
              "      <td>0.0</td>\n",
              "      <td>65536.0</td>\n",
              "      <td>65536.0</td>\n",
              "      <td>1283658.0</td>\n",
              "      <td>65161.0</td>\n",
              "      <td>0.000000</td>\n",
              "      <td>1014.966603</td>\n",
              "      <td>1998.184144</td>\n",
              "      <td>0xFFFFFFFF</td>\n",
              "      <td>65536.0</td>\n",
              "      <td>0.0</td>\n",
              "      <td>0.0</td>\n",
              "      <td>NO</td>\n",
              "      <td>261180.0</td>\n",
              "      <td>0.0</td>\n",
              "      <td>0.0</td>\n",
              "      <td>0.0</td>\n",
              "      <td>0.0</td>\n",
              "      <td>0.0</td>\n",
              "      <td>0.0</td>\n",
              "      <td>0xFFFFFFFF</td>\n",
              "      <td>0xFFFFFFFF</td>\n",
              "      <td>4.0</td>\n",
              "      <td>0</td>\n",
              "      <td>0</td>\n",
              "      <td>1</td>\n",
              "      <td>0</td>\n",
              "      <td>0</td>\n",
              "    </tr>\n",
              "    <tr>\n",
              "      <th>1</th>\n",
              "      <td>60</td>\n",
              "      <td>0.0</td>\n",
              "      <td>65536.0</td>\n",
              "      <td>65536.0</td>\n",
              "      <td>1283658.0</td>\n",
              "      <td>65161.0</td>\n",
              "      <td>0.000000</td>\n",
              "      <td>1014.966603</td>\n",
              "      <td>1998.184144</td>\n",
              "      <td>0xFFFFFFFF</td>\n",
              "      <td>65536.0</td>\n",
              "      <td>0.0</td>\n",
              "      <td>0.0</td>\n",
              "      <td>NO</td>\n",
              "      <td>261180.0</td>\n",
              "      <td>0.0</td>\n",
              "      <td>0.0</td>\n",
              "      <td>0.0</td>\n",
              "      <td>0.0</td>\n",
              "      <td>0.0</td>\n",
              "      <td>0.0</td>\n",
              "      <td>0xFFFFFFFF</td>\n",
              "      <td>0xFFFFFFFF</td>\n",
              "      <td>4.0</td>\n",
              "      <td>0</td>\n",
              "      <td>0</td>\n",
              "      <td>1</td>\n",
              "      <td>0</td>\n",
              "      <td>0</td>\n",
              "    </tr>\n",
              "    <tr>\n",
              "      <th>2</th>\n",
              "      <td>60</td>\n",
              "      <td>1.0</td>\n",
              "      <td>65536.0</td>\n",
              "      <td>65536.0</td>\n",
              "      <td>1283658.0</td>\n",
              "      <td>65161.0</td>\n",
              "      <td>0.000000</td>\n",
              "      <td>1014.966603</td>\n",
              "      <td>1998.184144</td>\n",
              "      <td>0xFFFFFFFF</td>\n",
              "      <td>65536.0</td>\n",
              "      <td>0.0</td>\n",
              "      <td>0.0</td>\n",
              "      <td>NO</td>\n",
              "      <td>261180.0</td>\n",
              "      <td>0.0</td>\n",
              "      <td>0.0</td>\n",
              "      <td>20.0</td>\n",
              "      <td>0.0</td>\n",
              "      <td>32.0</td>\n",
              "      <td>0.0</td>\n",
              "      <td>0x00000002</td>\n",
              "      <td>0xFFFFFFFF</td>\n",
              "      <td>0.0</td>\n",
              "      <td>0</td>\n",
              "      <td>0</td>\n",
              "      <td>0</td>\n",
              "      <td>1</td>\n",
              "      <td>0</td>\n",
              "    </tr>\n",
              "    <tr>\n",
              "      <th>3</th>\n",
              "      <td>60</td>\n",
              "      <td>1.0</td>\n",
              "      <td>65536.0</td>\n",
              "      <td>65536.0</td>\n",
              "      <td>1283658.0</td>\n",
              "      <td>65161.0</td>\n",
              "      <td>0.000000</td>\n",
              "      <td>1014.966603</td>\n",
              "      <td>1998.184144</td>\n",
              "      <td>0xFFFFFFFF</td>\n",
              "      <td>65536.0</td>\n",
              "      <td>0.0</td>\n",
              "      <td>0.0</td>\n",
              "      <td>NO</td>\n",
              "      <td>261180.0</td>\n",
              "      <td>0.0</td>\n",
              "      <td>0.0</td>\n",
              "      <td>20.0</td>\n",
              "      <td>0.0</td>\n",
              "      <td>32.0</td>\n",
              "      <td>0.0</td>\n",
              "      <td>0x00000027</td>\n",
              "      <td>0xFFFFFFFF</td>\n",
              "      <td>0.0</td>\n",
              "      <td>0</td>\n",
              "      <td>0</td>\n",
              "      <td>0</td>\n",
              "      <td>1</td>\n",
              "      <td>0</td>\n",
              "    </tr>\n",
              "    <tr>\n",
              "      <th>4</th>\n",
              "      <td>60</td>\n",
              "      <td>1.0</td>\n",
              "      <td>65536.0</td>\n",
              "      <td>65536.0</td>\n",
              "      <td>1283658.0</td>\n",
              "      <td>65161.0</td>\n",
              "      <td>0.000000</td>\n",
              "      <td>1014.966603</td>\n",
              "      <td>1998.184144</td>\n",
              "      <td>0xFFFFFFFF</td>\n",
              "      <td>65536.0</td>\n",
              "      <td>0.0</td>\n",
              "      <td>0.0</td>\n",
              "      <td>NO</td>\n",
              "      <td>261180.0</td>\n",
              "      <td>0.0</td>\n",
              "      <td>0.0</td>\n",
              "      <td>20.0</td>\n",
              "      <td>0.0</td>\n",
              "      <td>32.0</td>\n",
              "      <td>0.0</td>\n",
              "      <td>0x00000369</td>\n",
              "      <td>0xFFFFFFFF</td>\n",
              "      <td>0.0</td>\n",
              "      <td>0</td>\n",
              "      <td>0</td>\n",
              "      <td>0</td>\n",
              "      <td>1</td>\n",
              "      <td>0</td>\n",
              "    </tr>\n",
              "    <tr>\n",
              "      <th>...</th>\n",
              "      <td>...</td>\n",
              "      <td>...</td>\n",
              "      <td>...</td>\n",
              "      <td>...</td>\n",
              "      <td>...</td>\n",
              "      <td>...</td>\n",
              "      <td>...</td>\n",
              "      <td>...</td>\n",
              "      <td>...</td>\n",
              "      <td>...</td>\n",
              "      <td>...</td>\n",
              "      <td>...</td>\n",
              "      <td>...</td>\n",
              "      <td>...</td>\n",
              "      <td>...</td>\n",
              "      <td>...</td>\n",
              "      <td>...</td>\n",
              "      <td>...</td>\n",
              "      <td>...</td>\n",
              "      <td>...</td>\n",
              "      <td>...</td>\n",
              "      <td>...</td>\n",
              "      <td>...</td>\n",
              "      <td>...</td>\n",
              "      <td>...</td>\n",
              "      <td>...</td>\n",
              "      <td>...</td>\n",
              "      <td>...</td>\n",
              "      <td>...</td>\n",
              "    </tr>\n",
              "    <tr>\n",
              "      <th>9163746</th>\n",
              "      <td>64294</td>\n",
              "      <td>6.0</td>\n",
              "      <td>49160.0</td>\n",
              "      <td>4444.0</td>\n",
              "      <td>143.0</td>\n",
              "      <td>64240.0</td>\n",
              "      <td>0.000131</td>\n",
              "      <td>0.062031</td>\n",
              "      <td>26.769994</td>\n",
              "      <td>0x00000010</td>\n",
              "      <td>255.0</td>\n",
              "      <td>20.0</td>\n",
              "      <td>0.0</td>\n",
              "      <td>NO</td>\n",
              "      <td>261180.0</td>\n",
              "      <td>0.0</td>\n",
              "      <td>0.0</td>\n",
              "      <td>20.0</td>\n",
              "      <td>0.0</td>\n",
              "      <td>64280.0</td>\n",
              "      <td>0.0</td>\n",
              "      <td>0x000027e2</td>\n",
              "      <td>0xFFFFFFFF</td>\n",
              "      <td>1.0</td>\n",
              "      <td>0</td>\n",
              "      <td>0</td>\n",
              "      <td>0</td>\n",
              "      <td>0</td>\n",
              "      <td>1</td>\n",
              "    </tr>\n",
              "    <tr>\n",
              "      <th>9163747</th>\n",
              "      <td>64294</td>\n",
              "      <td>6.0</td>\n",
              "      <td>49160.0</td>\n",
              "      <td>4444.0</td>\n",
              "      <td>143.0</td>\n",
              "      <td>64240.0</td>\n",
              "      <td>0.000131</td>\n",
              "      <td>0.063122</td>\n",
              "      <td>27.877660</td>\n",
              "      <td>0x00000010</td>\n",
              "      <td>254.0</td>\n",
              "      <td>20.0</td>\n",
              "      <td>0.0</td>\n",
              "      <td>NO</td>\n",
              "      <td>261180.0</td>\n",
              "      <td>0.0</td>\n",
              "      <td>0.0</td>\n",
              "      <td>20.0</td>\n",
              "      <td>0.0</td>\n",
              "      <td>64280.0</td>\n",
              "      <td>0.0</td>\n",
              "      <td>0x00002da7</td>\n",
              "      <td>0xFFFFFFFF</td>\n",
              "      <td>1.0</td>\n",
              "      <td>0</td>\n",
              "      <td>0</td>\n",
              "      <td>0</td>\n",
              "      <td>0</td>\n",
              "      <td>1</td>\n",
              "    </tr>\n",
              "    <tr>\n",
              "      <th>9163748</th>\n",
              "      <td>64294</td>\n",
              "      <td>6.0</td>\n",
              "      <td>49160.0</td>\n",
              "      <td>4444.0</td>\n",
              "      <td>143.0</td>\n",
              "      <td>64240.0</td>\n",
              "      <td>0.000131</td>\n",
              "      <td>0.063430</td>\n",
              "      <td>41.699495</td>\n",
              "      <td>0x00000010</td>\n",
              "      <td>252.0</td>\n",
              "      <td>20.0</td>\n",
              "      <td>0.0</td>\n",
              "      <td>NO</td>\n",
              "      <td>261180.0</td>\n",
              "      <td>0.0</td>\n",
              "      <td>0.0</td>\n",
              "      <td>20.0</td>\n",
              "      <td>0.0</td>\n",
              "      <td>64280.0</td>\n",
              "      <td>0.0</td>\n",
              "      <td>0x000075c7</td>\n",
              "      <td>0xFFFFFFFF</td>\n",
              "      <td>1.0</td>\n",
              "      <td>0</td>\n",
              "      <td>0</td>\n",
              "      <td>0</td>\n",
              "      <td>0</td>\n",
              "      <td>1</td>\n",
              "    </tr>\n",
              "    <tr>\n",
              "      <th>9163749</th>\n",
              "      <td>64294</td>\n",
              "      <td>6.0</td>\n",
              "      <td>49160.0</td>\n",
              "      <td>4444.0</td>\n",
              "      <td>143.0</td>\n",
              "      <td>64240.0</td>\n",
              "      <td>0.000131</td>\n",
              "      <td>0.073164</td>\n",
              "      <td>27.315979</td>\n",
              "      <td>0x00000010</td>\n",
              "      <td>254.0</td>\n",
              "      <td>20.0</td>\n",
              "      <td>0.0</td>\n",
              "      <td>NO</td>\n",
              "      <td>261180.0</td>\n",
              "      <td>0.0</td>\n",
              "      <td>0.0</td>\n",
              "      <td>20.0</td>\n",
              "      <td>0.0</td>\n",
              "      <td>64280.0</td>\n",
              "      <td>0.0</td>\n",
              "      <td>0x00002ac3</td>\n",
              "      <td>0xFFFFFFFF</td>\n",
              "      <td>1.0</td>\n",
              "      <td>0</td>\n",
              "      <td>0</td>\n",
              "      <td>0</td>\n",
              "      <td>0</td>\n",
              "      <td>1</td>\n",
              "    </tr>\n",
              "    <tr>\n",
              "      <th>9163750</th>\n",
              "      <td>65226</td>\n",
              "      <td>6.0</td>\n",
              "      <td>4433.0</td>\n",
              "      <td>43055.0</td>\n",
              "      <td>238.0</td>\n",
              "      <td>65160.0</td>\n",
              "      <td>0.000298</td>\n",
              "      <td>0.000024</td>\n",
              "      <td>0.074151</td>\n",
              "      <td>0x00000010</td>\n",
              "      <td>227.0</td>\n",
              "      <td>32.0</td>\n",
              "      <td>0.0</td>\n",
              "      <td>NO</td>\n",
              "      <td>261180.0</td>\n",
              "      <td>0.0</td>\n",
              "      <td>0.0</td>\n",
              "      <td>20.0</td>\n",
              "      <td>0.0</td>\n",
              "      <td>65212.0</td>\n",
              "      <td>0.0</td>\n",
              "      <td>0x0000caa4</td>\n",
              "      <td>0xFFFFFFFF</td>\n",
              "      <td>1.0</td>\n",
              "      <td>0</td>\n",
              "      <td>0</td>\n",
              "      <td>0</td>\n",
              "      <td>0</td>\n",
              "      <td>1</td>\n",
              "    </tr>\n",
              "  </tbody>\n",
              "</table>\n",
              "<p>9163751 rows × 29 columns</p>\n",
              "</div>"
            ],
            "text/plain": [
              "         frame.len  ip.proto  srcport  dstport  ...  DoS  Normal  Scan  Theft\n",
              "0               42       0.0  65536.0  65536.0  ...    0       1     0      0\n",
              "1               60       0.0  65536.0  65536.0  ...    0       1     0      0\n",
              "2               60       1.0  65536.0  65536.0  ...    0       0     1      0\n",
              "3               60       1.0  65536.0  65536.0  ...    0       0     1      0\n",
              "4               60       1.0  65536.0  65536.0  ...    0       0     1      0\n",
              "...            ...       ...      ...      ...  ...  ...     ...   ...    ...\n",
              "9163746      64294       6.0  49160.0   4444.0  ...    0       0     0      1\n",
              "9163747      64294       6.0  49160.0   4444.0  ...    0       0     0      1\n",
              "9163748      64294       6.0  49160.0   4444.0  ...    0       0     0      1\n",
              "9163749      64294       6.0  49160.0   4444.0  ...    0       0     0      1\n",
              "9163750      65226       6.0   4433.0  43055.0  ...    0       0     0      1\n",
              "\n",
              "[9163751 rows x 29 columns]"
            ]
          },
          "metadata": {
            "tags": []
          },
          "execution_count": 10
        }
      ]
    },
    {
      "cell_type": "code",
      "metadata": {
        "id": "MsMxKyqGbS2G",
        "outputId": "4954f79d-07dd-4c62-b2dd-df6ee328d1ba",
        "colab": {
          "base_uri": "https://localhost:8080/",
          "height": 417
        }
      },
      "source": [
        "dfu[['http.request.method', 'attack', 'category', 'subcategory']].groupby('http.request.method')['category'].value_counts().unstack(fill_value=0).add_prefix('flag').reset_index().rename_axis(None, axis=1)"
      ],
      "execution_count": null,
      "outputs": [
        {
          "output_type": "execute_result",
          "data": {
            "text/html": [
              "<div>\n",
              "<style scoped>\n",
              "    .dataframe tbody tr th:only-of-type {\n",
              "        vertical-align: middle;\n",
              "    }\n",
              "\n",
              "    .dataframe tbody tr th {\n",
              "        vertical-align: top;\n",
              "    }\n",
              "\n",
              "    .dataframe thead th {\n",
              "        text-align: right;\n",
              "    }\n",
              "</style>\n",
              "<table border=\"1\" class=\"dataframe\">\n",
              "  <thead>\n",
              "    <tr style=\"text-align: right;\">\n",
              "      <th></th>\n",
              "      <th>http.request.method</th>\n",
              "      <th>flagDDoS</th>\n",
              "      <th>flagDoS</th>\n",
              "      <th>flagNormal</th>\n",
              "      <th>flagScan</th>\n",
              "      <th>flagTheft</th>\n",
              "    </tr>\n",
              "  </thead>\n",
              "  <tbody>\n",
              "    <tr>\n",
              "      <th>0</th>\n",
              "      <td>GET</td>\n",
              "      <td>0</td>\n",
              "      <td>0</td>\n",
              "      <td>1</td>\n",
              "      <td>2615</td>\n",
              "      <td>0</td>\n",
              "    </tr>\n",
              "    <tr>\n",
              "      <th>1</th>\n",
              "      <td>GET,GET</td>\n",
              "      <td>0</td>\n",
              "      <td>0</td>\n",
              "      <td>0</td>\n",
              "      <td>2</td>\n",
              "      <td>0</td>\n",
              "    </tr>\n",
              "    <tr>\n",
              "      <th>2</th>\n",
              "      <td>GET,GET,GET</td>\n",
              "      <td>0</td>\n",
              "      <td>0</td>\n",
              "      <td>0</td>\n",
              "      <td>1</td>\n",
              "      <td>0</td>\n",
              "    </tr>\n",
              "    <tr>\n",
              "      <th>3</th>\n",
              "      <td>GET,GET,GET,GET</td>\n",
              "      <td>0</td>\n",
              "      <td>0</td>\n",
              "      <td>0</td>\n",
              "      <td>59</td>\n",
              "      <td>0</td>\n",
              "    </tr>\n",
              "    <tr>\n",
              "      <th>4</th>\n",
              "      <td>GET,GET,GET,GET,GET</td>\n",
              "      <td>0</td>\n",
              "      <td>0</td>\n",
              "      <td>0</td>\n",
              "      <td>1</td>\n",
              "      <td>0</td>\n",
              "    </tr>\n",
              "    <tr>\n",
              "      <th>...</th>\n",
              "      <td>...</td>\n",
              "      <td>...</td>\n",
              "      <td>...</td>\n",
              "      <td>...</td>\n",
              "      <td>...</td>\n",
              "      <td>...</td>\n",
              "    </tr>\n",
              "    <tr>\n",
              "      <th>88</th>\n",
              "      <td>NO</td>\n",
              "      <td>2174737</td>\n",
              "      <td>2257594</td>\n",
              "      <td>2543625</td>\n",
              "      <td>1822264</td>\n",
              "      <td>313097</td>\n",
              "    </tr>\n",
              "    <tr>\n",
              "      <th>89</th>\n",
              "      <td>OPTIONS</td>\n",
              "      <td>0</td>\n",
              "      <td>0</td>\n",
              "      <td>0</td>\n",
              "      <td>671</td>\n",
              "      <td>0</td>\n",
              "    </tr>\n",
              "    <tr>\n",
              "      <th>90</th>\n",
              "      <td>POST</td>\n",
              "      <td>19178</td>\n",
              "      <td>28566</td>\n",
              "      <td>0</td>\n",
              "      <td>506</td>\n",
              "      <td>0</td>\n",
              "    </tr>\n",
              "    <tr>\n",
              "      <th>91</th>\n",
              "      <td>PROPFIND</td>\n",
              "      <td>0</td>\n",
              "      <td>0</td>\n",
              "      <td>0</td>\n",
              "      <td>43</td>\n",
              "      <td>0</td>\n",
              "    </tr>\n",
              "    <tr>\n",
              "      <th>92</th>\n",
              "      <td>TRACE</td>\n",
              "      <td>0</td>\n",
              "      <td>0</td>\n",
              "      <td>0</td>\n",
              "      <td>9</td>\n",
              "      <td>0</td>\n",
              "    </tr>\n",
              "  </tbody>\n",
              "</table>\n",
              "<p>93 rows × 6 columns</p>\n",
              "</div>"
            ],
            "text/plain": [
              "    http.request.method  flagDDoS  flagDoS  flagNormal  flagScan  flagTheft\n",
              "0                   GET         0        0           1      2615          0\n",
              "1               GET,GET         0        0           0         2          0\n",
              "2           GET,GET,GET         0        0           0         1          0\n",
              "3       GET,GET,GET,GET         0        0           0        59          0\n",
              "4   GET,GET,GET,GET,GET         0        0           0         1          0\n",
              "..                  ...       ...      ...         ...       ...        ...\n",
              "88                   NO   2174737  2257594     2543625   1822264     313097\n",
              "89              OPTIONS         0        0           0       671          0\n",
              "90                 POST     19178    28566           0       506          0\n",
              "91             PROPFIND         0        0           0        43          0\n",
              "92                TRACE         0        0           0         9          0\n",
              "\n",
              "[93 rows x 6 columns]"
            ]
          },
          "metadata": {
            "tags": []
          },
          "execution_count": 8
        }
      ]
    },
    {
      "cell_type": "code",
      "metadata": {
        "id": "gEJX7UeHjyrO",
        "outputId": "8c7ad975-59fe-43ca-b7b3-ab0086e65a95",
        "colab": {
          "base_uri": "https://localhost:8080/",
          "height": 417
        }
      },
      "source": [
        "dfu[['srcport', 'dstport', 'attack', 'category', 'subcategory']].groupby(['srcport', 'dstport'])['category'].value_counts().unstack(fill_value=0).add_prefix('flag').reset_index().rename_axis(None, axis=1)"
      ],
      "execution_count": null,
      "outputs": [
        {
          "output_type": "execute_result",
          "data": {
            "text/html": [
              "<div>\n",
              "<style scoped>\n",
              "    .dataframe tbody tr th:only-of-type {\n",
              "        vertical-align: middle;\n",
              "    }\n",
              "\n",
              "    .dataframe tbody tr th {\n",
              "        vertical-align: top;\n",
              "    }\n",
              "\n",
              "    .dataframe thead th {\n",
              "        text-align: right;\n",
              "    }\n",
              "</style>\n",
              "<table border=\"1\" class=\"dataframe\">\n",
              "  <thead>\n",
              "    <tr style=\"text-align: right;\">\n",
              "      <th></th>\n",
              "      <th>srcport</th>\n",
              "      <th>dstport</th>\n",
              "      <th>flagDDoS</th>\n",
              "      <th>flagDoS</th>\n",
              "      <th>flagNormal</th>\n",
              "      <th>flagScan</th>\n",
              "      <th>flagTheft</th>\n",
              "    </tr>\n",
              "  </thead>\n",
              "  <tbody>\n",
              "    <tr>\n",
              "      <th>0</th>\n",
              "      <td>0.0</td>\n",
              "      <td>0.0</td>\n",
              "      <td>0</td>\n",
              "      <td>0</td>\n",
              "      <td>361749</td>\n",
              "      <td>0</td>\n",
              "      <td>0</td>\n",
              "    </tr>\n",
              "    <tr>\n",
              "      <th>1</th>\n",
              "      <td>0.0</td>\n",
              "      <td>80.0</td>\n",
              "      <td>35</td>\n",
              "      <td>38</td>\n",
              "      <td>0</td>\n",
              "      <td>0</td>\n",
              "      <td>0</td>\n",
              "    </tr>\n",
              "    <tr>\n",
              "      <th>2</th>\n",
              "      <td>1.0</td>\n",
              "      <td>80.0</td>\n",
              "      <td>25</td>\n",
              "      <td>34</td>\n",
              "      <td>1</td>\n",
              "      <td>0</td>\n",
              "      <td>0</td>\n",
              "    </tr>\n",
              "    <tr>\n",
              "      <th>3</th>\n",
              "      <td>1.0</td>\n",
              "      <td>1114.0</td>\n",
              "      <td>0</td>\n",
              "      <td>0</td>\n",
              "      <td>0</td>\n",
              "      <td>1</td>\n",
              "      <td>0</td>\n",
              "    </tr>\n",
              "    <tr>\n",
              "      <th>4</th>\n",
              "      <td>1.0</td>\n",
              "      <td>1124.0</td>\n",
              "      <td>0</td>\n",
              "      <td>0</td>\n",
              "      <td>0</td>\n",
              "      <td>1</td>\n",
              "      <td>0</td>\n",
              "    </tr>\n",
              "    <tr>\n",
              "      <th>...</th>\n",
              "      <td>...</td>\n",
              "      <td>...</td>\n",
              "      <td>...</td>\n",
              "      <td>...</td>\n",
              "      <td>...</td>\n",
              "      <td>...</td>\n",
              "      <td>...</td>\n",
              "    </tr>\n",
              "    <tr>\n",
              "      <th>1596541</th>\n",
              "      <td>65535.0</td>\n",
              "      <td>64052.0</td>\n",
              "      <td>0</td>\n",
              "      <td>0</td>\n",
              "      <td>0</td>\n",
              "      <td>2</td>\n",
              "      <td>0</td>\n",
              "    </tr>\n",
              "    <tr>\n",
              "      <th>1596542</th>\n",
              "      <td>65535.0</td>\n",
              "      <td>64571.0</td>\n",
              "      <td>0</td>\n",
              "      <td>0</td>\n",
              "      <td>0</td>\n",
              "      <td>2</td>\n",
              "      <td>0</td>\n",
              "    </tr>\n",
              "    <tr>\n",
              "      <th>1596543</th>\n",
              "      <td>65535.0</td>\n",
              "      <td>65502.0</td>\n",
              "      <td>0</td>\n",
              "      <td>0</td>\n",
              "      <td>0</td>\n",
              "      <td>2</td>\n",
              "      <td>0</td>\n",
              "    </tr>\n",
              "    <tr>\n",
              "      <th>1596544</th>\n",
              "      <td>65535.0</td>\n",
              "      <td>65509.0</td>\n",
              "      <td>0</td>\n",
              "      <td>0</td>\n",
              "      <td>0</td>\n",
              "      <td>1</td>\n",
              "      <td>0</td>\n",
              "    </tr>\n",
              "    <tr>\n",
              "      <th>1596545</th>\n",
              "      <td>65536.0</td>\n",
              "      <td>65536.0</td>\n",
              "      <td>0</td>\n",
              "      <td>0</td>\n",
              "      <td>14</td>\n",
              "      <td>3323</td>\n",
              "      <td>0</td>\n",
              "    </tr>\n",
              "  </tbody>\n",
              "</table>\n",
              "<p>1596546 rows × 7 columns</p>\n",
              "</div>"
            ],
            "text/plain": [
              "         srcport  dstport  flagDDoS  flagDoS  flagNormal  flagScan  flagTheft\n",
              "0            0.0      0.0         0        0      361749         0          0\n",
              "1            0.0     80.0        35       38           0         0          0\n",
              "2            1.0     80.0        25       34           1         0          0\n",
              "3            1.0   1114.0         0        0           0         1          0\n",
              "4            1.0   1124.0         0        0           0         1          0\n",
              "...          ...      ...       ...      ...         ...       ...        ...\n",
              "1596541  65535.0  64052.0         0        0           0         2          0\n",
              "1596542  65535.0  64571.0         0        0           0         2          0\n",
              "1596543  65535.0  65502.0         0        0           0         2          0\n",
              "1596544  65535.0  65509.0         0        0           0         1          0\n",
              "1596545  65536.0  65536.0         0        0          14      3323          0\n",
              "\n",
              "[1596546 rows x 7 columns]"
            ]
          },
          "metadata": {
            "tags": []
          },
          "execution_count": 11
        }
      ]
    },
    {
      "cell_type": "code",
      "metadata": {
        "id": "-bzf6n3sC9wC",
        "outputId": "8b209c94-38d8-4b9a-fab8-a6bce1deed9e",
        "colab": {
          "base_uri": "https://localhost:8080/",
          "height": 1000
        }
      },
      "source": [
        "dfu['http.request.method'].unique()\n"
      ],
      "execution_count": null,
      "outputs": [
        {
          "output_type": "execute_result",
          "data": {
            "text/plain": [
              "array(['NO', 'POST', 'GET', 'OPTIONS', 'PROPFIND', 'HEAD', 'TRACE',\n",
              "       'HEAD,HEAD,HEAD,HEAD,HEAD,HEAD,HEAD,HEAD,HEAD,HEAD,HEAD,HEAD,HEAD,HEAD,HEAD,HEAD,HEAD,HEAD,HEAD,HEAD,HEAD,HEAD,HEAD,HEAD,HEAD,HEAD,HEAD,HEAD,HEAD,HEAD,HEAD,HEAD,HEAD,HEAD,HEAD,HEAD,HEAD,HEAD,HEAD,HEAD,HEAD,HEAD',\n",
              "       'HEAD,HEAD,HEAD,HEAD,HEAD,HEAD,HEAD,HEAD,HEAD,HEAD,HEAD,HEAD,HEAD,HEAD,HEAD,HEAD,HEAD',\n",
              "       'HEAD,HEAD,HEAD,HEAD,HEAD,HEAD,HEAD,HEAD,HEAD,HEAD,HEAD,HEAD,HEAD,HEAD,HEAD,HEAD,HEAD,HEAD,HEAD,HEAD,HEAD,HEAD,HEAD,HEAD,HEAD,HEAD,HEAD,HEAD,HEAD,HEAD,HEAD,HEAD,HEAD,HEAD,HEAD,HEAD,HEAD,HEAD,HEAD,HEAD,HEAD',\n",
              "       'HEAD,HEAD,HEAD,HEAD,HEAD,HEAD,HEAD,HEAD,HEAD,HEAD,GET,GET,GET,GET,GET,GET,GET,GET,GET,GET,GET,GET,GET,HEAD,HEAD,HEAD,HEAD,HEAD,HEAD,HEAD,HEAD,HEAD,HEAD,HEAD,HEAD,HEAD,HEAD,HEAD,HEAD,HEAD,HEAD,HEAD,HEAD,HEAD',\n",
              "       'HEAD,HEAD,HEAD,HEAD,HEAD,HEAD,HEAD,HEAD,HEAD,HEAD,HEAD,HEAD,HEAD,HEAD,HEAD,HEAD,HEAD,GET,GET',\n",
              "       'GET,GET,HEAD,HEAD,HEAD,HEAD,HEAD,HEAD,HEAD,HEAD,HEAD,HEAD,HEAD,HEAD,HEAD,HEAD,HEAD,HEAD,HEAD,HEAD,HEAD,HEAD,HEAD,HEAD,HEAD,HEAD,HEAD,GET,HEAD,HEAD,GET,GET,GET,GET,GET,GET,GET,GET,GET,GET,GET',\n",
              "       'HEAD,HEAD,HEAD,HEAD,HEAD,HEAD,HEAD,HEAD,HEAD,HEAD,HEAD,HEAD,HEAD,HEAD,HEAD,HEAD,HEAD,HEAD',\n",
              "       'HEAD,HEAD,HEAD,HEAD,HEAD,HEAD,HEAD,HEAD,HEAD,HEAD,HEAD,HEAD,HEAD,HEAD,HEAD',\n",
              "       'GET,GET,GET,GET,GET,GET,GET,GET,GET,GET,GET,GET,GET,GET,GET,GET,GET,GET',\n",
              "       'GET,GET,GET,GET,GET,GET,GET,GET,GET,GET,GET,HEAD,HEAD,HEAD,GET,GET,GET,GET,GET,GET',\n",
              "       'HEAD,HEAD,HEAD,HEAD,HEAD,HEAD,HEAD,HEAD,HEAD,HEAD,HEAD,HEAD,HEAD,HEAD,HEAD,HEAD,HEAD,HEAD,HEAD,HEAD,HEAD,HEAD,HEAD,HEAD,HEAD,HEAD,HEAD,HEAD,HEAD,HEAD,HEAD,HEAD,HEAD,HEAD,HEAD',\n",
              "       'GET,GET,GET,GET,GET,GET,GET,GET,GET,GET,GET,GET,GET,GET,GET,GET,GET,GET,GET,GET,GET,GET,GET,GET,GET,GET,GET,GET,GET,GET,GET,GET,GET,GET,GET,GET,GET,GET,GET,GET,GET,GET,GET,GET',\n",
              "       'GET,GET,GET,GET,GET,GET,GET,GET,GET,GET,GET,GET',\n",
              "       'GET,GET,GET,GET,GET,GET,GET,GET,GET,GET,GET,GET,GET,GET,GET,GET,GET,GET,GET,GET,GET,GET,GET,GET,GET,GET,GET,GET,GET,GET,GET,GET,GET,GET,GET,GET,GET,GET,GET,GET,GET,GET,HEAD',\n",
              "       'HEAD,HEAD,HEAD,HEAD,HEAD,HEAD,HEAD,HEAD,HEAD,HEAD,HEAD,HEAD,HEAD,HEAD,HEAD,HEAD,HEAD,HEAD,HEAD,HEAD,GET,GET,GET,GET,GET,GET,HEAD,HEAD,HEAD,HEAD,HEAD,HEAD,HEAD,HEAD,HEAD,HEAD,HEAD,HEAD,HEAD,HEAD,HEAD,HEAD',\n",
              "       'HEAD,HEAD,HEAD,HEAD,HEAD,HEAD,HEAD,HEAD,HEAD,HEAD,HEAD,HEAD,HEAD,HEAD,HEAD,HEAD,HEAD,HEAD,HEAD,HEAD,HEAD,HEAD,HEAD,HEAD,HEAD,HEAD,HEAD,HEAD,HEAD,HEAD,HEAD,HEAD,HEAD,HEAD,HEAD,HEAD,HEAD,HEAD,HEAD,HEAD,HEAD,HEAD,HEAD',\n",
              "       'HEAD,HEAD,HEAD,HEAD,HEAD,HEAD,HEAD,HEAD,HEAD,HEAD,HEAD,HEAD,HEAD,HEAD,HEAD,HEAD,HEAD,HEAD,HEAD,HEAD,HEAD,HEAD,HEAD,HEAD,HEAD,HEAD,HEAD,HEAD,HEAD,HEAD,HEAD,HEAD,HEAD,HEAD,HEAD,HEAD,HEAD,HEAD,HEAD',\n",
              "       'GET,GET,GET,GET,GET,GET,GET,GET,GET,GET,GET,GET,GET,GET,GET,GET,GET,GET,GET,GET,GET,GET,GET,GET,GET,GET,HEAD,GET,GET,GET,GET,GET,GET,GET,GET,GET,GET',\n",
              "       'GET,GET,GET,GET,GET,GET,GET,GET,GET,GET,GET,GET,GET,GET,GET,GET,GET,GET,GET,GET,GET,GET,GET,GET,GET,GET,GET,GET,GET,GET,GET,GET,GET,GET,GET,GET,GET,GET,GET,GET,GET,GET,GET',\n",
              "       'GET,GET,GET,GET,GET,GET,GET,GET,GET,GET,GET',\n",
              "       'GET,GET,GET,GET,GET,GET,GET,GET,GET,GET,GET,GET,GET,GET,GET,GET,GET,GET,GET,GET,GET,GET,GET,GET,GET,GET,GET,GET,GET,GET,GET,GET,GET,GET',\n",
              "       'HEAD,HEAD,HEAD,HEAD,HEAD,HEAD,HEAD,HEAD,HEAD,HEAD,HEAD,HEAD,HEAD,HEAD,HEAD,HEAD,GET,GET,GET,GET,GET,GET,GET,GET,GET,GET,GET,GET,HEAD,HEAD,HEAD,HEAD,HEAD,HEAD,HEAD,HEAD,HEAD,HEAD,HEAD,HEAD,HEAD,HEAD,HEAD',\n",
              "       'HEAD,HEAD,HEAD,GET,HEAD,HEAD,HEAD,HEAD,HEAD,GET,GET,GET,HEAD,HEAD,HEAD,HEAD,HEAD,HEAD,HEAD,HEAD,HEAD,HEAD,HEAD,HEAD,HEAD,HEAD,HEAD,HEAD,HEAD,HEAD,HEAD,HEAD,HEAD,HEAD,HEAD,HEAD,HEAD,HEAD,HEAD,HEAD,HEAD',\n",
              "       'HEAD,HEAD,HEAD,HEAD,HEAD,HEAD,HEAD,HEAD',\n",
              "       'HEAD,HEAD,HEAD,HEAD,HEAD,HEAD,HEAD,HEAD,HEAD,HEAD,HEAD,HEAD,HEAD',\n",
              "       'HEAD,HEAD,HEAD,HEAD,HEAD,HEAD,HEAD,HEAD,HEAD,HEAD,HEAD,HEAD,HEAD,HEAD,HEAD,HEAD,HEAD,HEAD,HEAD',\n",
              "       'GET,GET,GET,GET,GET,GET,GET,GET,GET,GET,GET,GET,GET,GET,GET,GET,GET,GET,GET,GET,GET,GET,GET,GET,GET,GET,GET,GET,GET,GET,GET,GET,GET,GET,GET,GET,GET,GET,GET,GET,GET,GET,GET,GET,GET',\n",
              "       'HEAD,HEAD,GET,GET,GET,HEAD,GET,GET,GET,HEAD,HEAD,GET,GET,HEAD,HEAD,HEAD,HEAD,HEAD,HEAD,HEAD,HEAD,GET,GET,GET',\n",
              "       'GET,GET,GET,GET,GET,GET,HEAD,HEAD,HEAD,HEAD,HEAD,HEAD,HEAD,HEAD,HEAD,HEAD,HEAD,HEAD,HEAD,HEAD,HEAD,HEAD,HEAD,HEAD,HEAD,HEAD,HEAD,HEAD,HEAD,HEAD,HEAD,HEAD,HEAD,HEAD,HEAD,HEAD,HEAD,HEAD,HEAD,HEAD',\n",
              "       'HEAD,HEAD,HEAD,HEAD,HEAD,HEAD,HEAD,HEAD,HEAD,HEAD,HEAD,HEAD,HEAD,HEAD,HEAD,HEAD,HEAD,HEAD,HEAD,HEAD,HEAD,HEAD,HEAD,GET,HEAD,HEAD,HEAD,HEAD,HEAD,HEAD,HEAD,GET,GET,GET,GET,GET,GET,GET,GET,GET,GET',\n",
              "       'HEAD,HEAD,HEAD,HEAD,HEAD,HEAD,HEAD,HEAD,HEAD,HEAD,HEAD,HEAD,GET,GET,GET,GET,GET,GET,GET,GET,HEAD,HEAD,HEAD,GET,HEAD,HEAD,HEAD,HEAD,HEAD,GET,GET,GET,GET,GET,GET,GET,GET,GET,GET,GET,GET',\n",
              "       'GET,GET,GET,GET,GET,GET,GET,GET,GET,GET,GET,GET,GET,GET,GET,GET,GET,GET,GET,GET,GET,GET,GET,GET,GET,GET,GET,GET,GET,GET,GET,GET,GET,GET,GET,GET',\n",
              "       'GET,GET,GET,GET,GET,GET,GET,GET',\n",
              "       'GET,GET,HEAD,HEAD,HEAD,HEAD,HEAD,HEAD,HEAD,HEAD,HEAD,HEAD,HEAD,HEAD,HEAD,HEAD',\n",
              "       'HEAD,HEAD,HEAD,HEAD,HEAD,HEAD,HEAD,HEAD,HEAD,HEAD,HEAD,GET,HEAD,HEAD,GET,GET',\n",
              "       'GET,GET,GET,GET,GET,GET,GET,GET,GET,GET,GET,GET,GET,GET,GET,HEAD,HEAD',\n",
              "       'HEAD,HEAD,HEAD,HEAD,HEAD,HEAD,HEAD,HEAD,HEAD,HEAD,HEAD,HEAD,HEAD,HEAD,HEAD,HEAD',\n",
              "       'HEAD,HEAD,HEAD', 'HEAD,HEAD',\n",
              "       'HEAD,HEAD,HEAD,HEAD,HEAD,HEAD,GET,GET,GET,GET,GET,GET,GET,GET,GET,GET',\n",
              "       'GET,GET',\n",
              "       'GET,GET,GET,GET,GET,GET,GET,GET,GET,GET,GET,GET,GET,GET,GET,GET,GET',\n",
              "       'HEAD,HEAD,GET,GET,GET,HEAD,GET,GET,GET,HEAD,HEAD,GET,GET,HEAD,HEAD,HEAD',\n",
              "       'GET,GET,GET,GET,GET,GET,GET,GET,GET,GET',\n",
              "       'GET,GET,GET,GET,GET,GET,GET,GET,GET,GET,GET,GET,GET,GET',\n",
              "       'HEAD,HEAD,HEAD,HEAD', 'GET,GET,GET,GET,GET,GET,GET',\n",
              "       'HEAD,HEAD,HEAD,GET,HEAD,HEAD,HEAD,HEAD,HEAD,GET,GET,GET,HEAD,HEAD,HEAD',\n",
              "       'HEAD,HEAD,GET,HEAD',\n",
              "       'GET,GET,GET,GET,GET,GET,GET,GET,GET,GET,GET,GET,GET,GET,GET',\n",
              "       'GET,GET,GET,GET',\n",
              "       'GET,GET,GET,HEAD,GET,GET,GET,GET,GET,GET,GET,GET',\n",
              "       'GET,HEAD,HEAD,GET', 'GET,GET,HEAD,GET', 'GET,GET,GET,HEAD',\n",
              "       'HEAD,HEAD,HEAD,GET,GET,GET,GET,GET,GET,HEAD,HEAD,HEAD,HEAD,HEAD,HEAD,HEAD,HEAD',\n",
              "       'HEAD,HEAD,HEAD,HEAD,HEAD,HEAD,HEAD',\n",
              "       'HEAD,HEAD,HEAD,GET,HEAD,HEAD,HEAD,HEAD,HEAD,GET,GET,GET,HEAD,HEAD,HEAD,HEAD',\n",
              "       'HEAD,HEAD,HEAD,HEAD,GET,GET,GET,GET,GET,GET,HEAD,HEAD,HEAD,HEAD,HEAD,HEAD,HEAD',\n",
              "       'HEAD,HEAD,HEAD,HEAD,HEAD,HEAD,HEAD,HEAD,HEAD,HEAD,HEAD,HEAD,HEAD,HEAD,HEAD,HEAD,GET',\n",
              "       'GET,GET,GET,GET,GET,GET,GET,GET,GET,GET,GET,HEAD,HEAD,HEAD,HEAD,HEAD,HEAD',\n",
              "       'GET,GET,GET,GET,GET,GET,GET,GET,GET,GET,GET,HEAD,HEAD,HEAD,GET,GET,GET',\n",
              "       'GET,GET,GET', 'HEAD,GET,GET',\n",
              "       'HEAD,HEAD,HEAD,HEAD,HEAD,HEAD,HEAD,HEAD,HEAD,HEAD,HEAD,HEAD,HEAD,HEAD,HEAD,GET,HEAD',\n",
              "       'GET,GET,GET,GET,GET,GET,GET,GET,GET,GET,GET,GET,GET,GET,GET,GET',\n",
              "       'GET,GET,GET,GET,GET,GET,GET,GET,GET,GET,HEAD,GET,GET,GET',\n",
              "       'HEAD,HEAD,HEAD,HEAD,GET,GET,GET,GET,GET,GET,GET,GET,HEAD,HEAD,HEAD,GET,HEAD',\n",
              "       'HEAD,HEAD,HEAD,HEAD,HEAD,GET,GET,GET', 'GET,GET,GET,GET,GET,GET',\n",
              "       'HEAD,HEAD,HEAD,GET,GET,GET,GET',\n",
              "       'GET,GET,GET,GET,GET,GET,GET,GET,HEAD,HEAD,HEAD,HEAD,HEAD,HEAD,HEAD,HEAD',\n",
              "       'GET,GET,GET,GET,GET,GET,HEAD,HEAD,HEAD,HEAD,HEAD,HEAD,HEAD,HEAD,HEAD,HEAD',\n",
              "       'HEAD,HEAD,HEAD,HEAD,HEAD,HEAD',\n",
              "       'HEAD,HEAD,HEAD,HEAD,HEAD,HEAD,HEAD,HEAD,HEAD',\n",
              "       'HEAD,HEAD,HEAD,GET,GET,GET,GET,HEAD,HEAD,HEAD,HEAD,HEAD,HEAD,HEAD,HEAD,HEAD,HEAD',\n",
              "       'GET,GET,GET,GET,GET,GET,GET,GET,GET,GET,GET,GET,HEAD,HEAD,HEAD,HEAD,HEAD',\n",
              "       'GET,GET,GET,GET,GET,GET,GET,HEAD,HEAD,HEAD,HEAD,HEAD,HEAD,HEAD,HEAD,HEAD',\n",
              "       'HEAD,HEAD,HEAD,HEAD,HEAD,HEAD,HEAD,HEAD,HEAD,GET,HEAD,HEAD,HEAD,HEAD,HEAD,HEAD',\n",
              "       'HEAD,GET,GET,GET,GET,GET,GET,GET,GET',\n",
              "       'GET,GET,GET,GET,GET,GET,HEAD,GET,GET,GET,GET,GET',\n",
              "       'GET,GET,GET,HEAD,HEAD,HEAD,HEAD', 'GET,GET,GET,GET,GET',\n",
              "       'HEAD,GET,GET,GET,HEAD,HEAD,GET', 'HEAD,HEAD,GET,GET,GET,GET,GET',\n",
              "       'GET,GET,GET,GET,GET,GET,GET,GET,GET,GET,GET,GET,GET,GET,GET,GET,GET,GET,GET,GET'],\n",
              "      dtype=object)"
            ]
          },
          "metadata": {
            "tags": []
          },
          "execution_count": 5
        }
      ]
    },
    {
      "cell_type": "markdown",
      "metadata": {
        "id": "S-L33R2DjPYR"
      },
      "source": [
        "##Run model with multi-labels"
      ]
    },
    {
      "cell_type": "markdown",
      "metadata": {
        "id": "Y63Zm_aTH_Fd"
      },
      "source": [
        "####Process multi-labels"
      ]
    },
    {
      "cell_type": "code",
      "metadata": {
        "id": "jDhAsQnAjTnw"
      },
      "source": [
        "from sklearn.preprocessing import OneHotEncoder\n",
        "def encodeFeaturesForMultiLabels(df):\n",
        "  enc_tcp = OneHotEncoder(handle_unknown='ignore')\n",
        "  enc_tcp.fit(df[['tcp.flags']])\n",
        "\n",
        "  enc_pro = OneHotEncoder(handle_unknown='ignore')\n",
        "  enc_pro.fit(df[['ip.proto']])\n",
        "\n",
        "  #Stack the sequence of input arrays horizontally (i.e. column wise) to make a single array.\n",
        "  inputs = np.hstack([df.drop(['srcport', 'dstport', 'tcp.flags', 'ip.proto'], axis=1).values, \n",
        "                      enc_tcp.transform(df[['tcp.flags']]).toarray(), \n",
        "                      enc_pro.transform(df[['ip.proto']]).toarray()])\n",
        "  return inputs"
      ],
      "execution_count": null,
      "outputs": []
    },
    {
      "cell_type": "code",
      "metadata": {
        "id": "ZUZLkfygTR9R"
      },
      "source": [
        "#dfU['subcategory'] = dfU['category'] + dfU['subcategory']\n",
        "dfM = dfU.groupby(['ip.proto', 'frame.len', 'srcport', 'dstport', 'trans.stream', 'trans.len', 'tcp.analysis.initial_rtt', 'tcp.time_delta', 'tcp.flags', 'tcp.window_size_value', 'ip.ttl_1', 'ip.ttl_2'])['category'].value_counts().unstack(fill_value=0).reset_index().rename_axis(None, axis=1)"
      ],
      "execution_count": null,
      "outputs": []
    },
    {
      "cell_type": "code",
      "metadata": {
        "id": "LwPm51RiGvgd"
      },
      "source": [
        "inputs = encodeFeaturesForMultiLabels(dfM[['ip.proto', 'frame.len', 'srcport', 'dstport', 'trans.stream', 'trans.len', \n",
        "                                  'tcp.analysis.initial_rtt', 'tcp.time_delta', 'tcp.flags', 'tcp.window_size_value', \n",
        "                                  'ip.ttl_1', 'ip.ttl_2']])"
      ],
      "execution_count": null,
      "outputs": []
    },
    {
      "cell_type": "code",
      "metadata": {
        "id": "IxAtceoxERjD"
      },
      "source": [
        "#https://scikit-learn.org/stable/modules/multiclass.html\n",
        "labels = dfM[['Normal', 'DDoS', 'DoS', 'Reconnaissance', 'Theft']].values"
      ],
      "execution_count": null,
      "outputs": []
    },
    {
      "cell_type": "code",
      "metadata": {
        "id": "WLQSjbzvGJjs"
      },
      "source": [
        "np.save(\"drive/My Drive/dataset/multiInputs.npy\", inputs)\n",
        "np.save(\"drive/My Drive/dataset/multiLabels.npy\", labels)"
      ],
      "execution_count": null,
      "outputs": []
    },
    {
      "cell_type": "code",
      "metadata": {
        "id": "8GRdtB6rHUt9"
      },
      "source": [
        "ports = dfM[['srcport', 'dstport']].values\n",
        "np.save(\"drive/My Drive/dataset/multiPorts.npy\", ports)"
      ],
      "execution_count": null,
      "outputs": []
    },
    {
      "cell_type": "markdown",
      "metadata": {
        "id": "UE47NDr3IGQ7"
      },
      "source": [
        "####Run model with embedding"
      ]
    },
    {
      "cell_type": "code",
      "metadata": {
        "id": "DW49xhmaIJGs"
      },
      "source": [
        "inputs = np.load(\"drive/My Drive/dataset/multiInputs.npy\")\n",
        "labels = np.load(\"drive/My Drive/dataset/multiLabels.npy\")\n",
        "ports = np.load(\"drive/My Drive/dataset/multiPorts.npy\")"
      ],
      "execution_count": null,
      "outputs": []
    },
    {
      "cell_type": "code",
      "metadata": {
        "id": "p2whkzxjIP21",
        "outputId": "ac6e7b39-eb20-4000-8f5e-6c86c779ca89",
        "colab": {
          "base_uri": "https://localhost:8080/",
          "height": 457
        }
      },
      "source": [
        "from sklearn.model_selection import train_test_split\n",
        "from sklearn.metrics import confusion_matrix\n",
        "tf.keras.backend.clear_session()\n",
        "tf.random.set_seed(51)\n",
        "np.random.seed(51)\n",
        "\n",
        "# Split the data set into training, validation and test\n",
        "# Data is split in a stratified fashion\n",
        "X_train, X_test, P_train, P_test, y_train, y_test = train_test_split(inputs, ports, labels, test_size=0.2, stratify=labels, random_state=42)\n",
        "X_train, X_val, P_train, P_val, y_train, y_val = train_test_split(X_train, P_train, y_train, test_size=0.2, stratify=y_train, random_state=42)\n",
        "\n",
        "embedding_dim = 16\n",
        "input_dim = 65536 #input_dim: maximum integer index + 1\n",
        "\n",
        "np_input = tf.keras.Input(shape=(inputs.shape[1],), name='others')\n",
        "p_input = tf.keras.Input(shape=(ports.shape[1],), name='ports')\n",
        "\n",
        "p_feature = tf.keras.layers.Embedding(input_dim, embedding_dim)(p_input)\n",
        "p_feature = tf.keras.layers.GlobalAveragePooling1D()(p_feature)\n",
        "\n",
        "merge = tf.keras.layers.concatenate([p_feature, np_input])\n",
        "\n",
        "hidden1 = tf.keras.layers.Dense(512, activation='relu')(merge)\n",
        "hidden2 = tf.keras.layers.Dense(512, activation='relu')(hidden1)\n",
        "classif = tf.keras.layers.Dense(5, activation='sigmoid')(hidden2)\n",
        "\n",
        "model = tf.keras.Model(inputs=[p_input, np_input], outputs=classif)\n",
        "\n",
        "model.summary()\n",
        "#tf.keras.utils.plot_model(model, 'multi_input.png', show_shapes=True)"
      ],
      "execution_count": null,
      "outputs": [
        {
          "output_type": "stream",
          "text": [
            "Model: \"model\"\n",
            "__________________________________________________________________________________________________\n",
            "Layer (type)                    Output Shape         Param #     Connected to                     \n",
            "==================================================================================================\n",
            "ports (InputLayer)              [(None, 2)]          0                                            \n",
            "__________________________________________________________________________________________________\n",
            "embedding (Embedding)           (None, 2, 16)        1048576     ports[0][0]                      \n",
            "__________________________________________________________________________________________________\n",
            "global_average_pooling1d (Globa (None, 16)           0           embedding[0][0]                  \n",
            "__________________________________________________________________________________________________\n",
            "others (InputLayer)             [(None, 30)]         0                                            \n",
            "__________________________________________________________________________________________________\n",
            "concatenate (Concatenate)       (None, 46)           0           global_average_pooling1d[0][0]   \n",
            "                                                                 others[0][0]                     \n",
            "__________________________________________________________________________________________________\n",
            "dense (Dense)                   (None, 512)          24064       concatenate[0][0]                \n",
            "__________________________________________________________________________________________________\n",
            "dense_1 (Dense)                 (None, 512)          262656      dense[0][0]                      \n",
            "__________________________________________________________________________________________________\n",
            "dense_2 (Dense)                 (None, 5)            2565        dense_1[0][0]                    \n",
            "==================================================================================================\n",
            "Total params: 1,337,861\n",
            "Trainable params: 1,337,861\n",
            "Non-trainable params: 0\n",
            "__________________________________________________________________________________________________\n"
          ],
          "name": "stdout"
        }
      ]
    },
    {
      "cell_type": "code",
      "metadata": {
        "id": "PE8yUx-4IcZs",
        "outputId": "5cf37099-ed88-423b-885e-42976fb5bbbe",
        "colab": {
          "base_uri": "https://localhost:8080/",
          "height": 211
        }
      },
      "source": [
        "#checkpoint_path = \"drive/My Drive/dataset/model_checkpoint/weights_best_multi.hdf5\"\n",
        "mnn_callbacks = [tf.keras.callbacks.EarlyStopping(monitor='loss', patience=3, verbose=2)]\n",
        "#tf.keras.callbacks.ModelCheckpoint(checkpoint_path, monitor='loss', save_best_only=True, verbose=1, mode=\"min\")\n",
        "\n",
        "model.compile(optimizer='adam', loss='binary_crossentropy', metrics=['accuracy'])\n",
        "history = model.fit({'ports': P_train, 'others': X_train}, y_train, \n",
        "          batch_size=128, epochs=20, validation_data=({'ports': P_val, 'others': X_val}, y_val), callbacks=mnn_callbacks)\n"
      ],
      "execution_count": null,
      "outputs": [
        {
          "output_type": "stream",
          "text": [
            "Epoch 1/20\n",
            "36550/36550 [==============================] - 728s 20ms/step - loss: 0.2163 - accuracy: 0.6758 - val_loss: 0.2056 - val_accuracy: 0.6779\n",
            "Epoch 2/20\n",
            "36550/36550 [==============================] - 719s 20ms/step - loss: 0.2151 - accuracy: 0.6724 - val_loss: 0.2045 - val_accuracy: 0.6663\n",
            "Epoch 3/20\n",
            "36550/36550 [==============================] - 720s 20ms/step - loss: 0.2200 - accuracy: 0.6715 - val_loss: 0.2055 - val_accuracy: 0.6670\n",
            "Epoch 4/20\n",
            "36550/36550 [==============================] - 725s 20ms/step - loss: 0.2189 - accuracy: 0.6713 - val_loss: 0.2012 - val_accuracy: 0.6673\n",
            "Epoch 5/20\n",
            "36550/36550 [==============================] - 707s 19ms/step - loss: 0.2530 - accuracy: 0.6633 - val_loss: 0.2232 - val_accuracy: 0.6668\n",
            "Epoch 00005: early stopping\n"
          ],
          "name": "stdout"
        }
      ]
    },
    {
      "cell_type": "code",
      "metadata": {
        "id": "axgfjhNofHeT"
      },
      "source": [
        "results = model.predict({'ports': P_test, 'others': X_test})"
      ],
      "execution_count": null,
      "outputs": []
    },
    {
      "cell_type": "code",
      "metadata": {
        "id": "7sncdnE-jMID",
        "outputId": "c3fa094c-b78d-45ed-8ec5-5e96c2728bae",
        "colab": {
          "base_uri": "https://localhost:8080/",
          "height": 246
        }
      },
      "source": [
        "results"
      ],
      "execution_count": null,
      "outputs": [
        {
          "output_type": "execute_result",
          "data": {
            "text/plain": [
              "array([[2.5329590e-03, 4.5596462e-01, 3.3490521e-01, 2.1170080e-03,\n",
              "        3.7616817e-06],\n",
              "       [2.5850415e-02, 1.1676216e-01, 1.5385866e-01, 8.9934468e-01,\n",
              "        1.9198656e-03],\n",
              "       [2.5850415e-02, 1.1676216e-01, 1.5385866e-01, 8.9934468e-01,\n",
              "        1.9198656e-03],\n",
              "       ...,\n",
              "       [3.6361217e-03, 3.8651335e-01, 3.0080220e-01, 7.6452196e-03,\n",
              "        9.8618348e-06],\n",
              "       [4.6934502e-14, 0.0000000e+00, 0.0000000e+00, 1.0000000e+00,\n",
              "        2.7985398e-09],\n",
              "       [2.5850415e-02, 1.1676216e-01, 1.5385866e-01, 8.9934462e-01,\n",
              "        1.9198442e-03]], dtype=float32)"
            ]
          },
          "metadata": {
            "tags": []
          },
          "execution_count": 11
        }
      ]
    },
    {
      "cell_type": "markdown",
      "metadata": {
        "id": "Xs_NvZDa2P0w"
      },
      "source": [
        "##Encode non-embedding features and labels + save embedding columns"
      ]
    },
    {
      "cell_type": "code",
      "metadata": {
        "id": "tdFFE7F-e4yM"
      },
      "source": [
        "from sklearn.preprocessing import OneHotEncoder\n",
        "from sklearn.preprocessing import LabelEncoder\n",
        "\n",
        "def encodeLabels(df):\n",
        "  print(df['subcategory'].unique())\n",
        "  enc_labels = LabelEncoder()\n",
        "  labels = enc_labels.fit_transform(df['subcategory'].values)\n",
        "  print(enc_labels.transform(df['subcategory'].unique()))\n",
        "  return labels\n",
        "\n",
        "def encodeHTTP(df):\n",
        "  print(df['http.request.method'].unique())\n",
        "  enc_http = LabelEncoder()\n",
        "  outputs = enc_http.fit_transform(df['http.request.method'].values)\n",
        "  print(enc_http.transform(df['http.request.method'].unique()))\n",
        "  return outputs\n",
        "\n",
        "def encodeFeatures(df):\n",
        "  enc_tcp = OneHotEncoder(handle_unknown='ignore')\n",
        "  enc_tcp.fit(df[['tcp.flags']])\n",
        "  tcp = enc_tcp.transform(df[['tcp.flags']]).toarray()\n",
        "\n",
        "  enc_pro = OneHotEncoder(handle_unknown='ignore')\n",
        "  enc_pro.fit(df[['ip.proto']])\n",
        "  pro = enc_pro.transform(df[['ip.proto']]).toarray()\n",
        "\n",
        "  enc_flag = OneHotEncoder(handle_unknown='ignore')\n",
        "  enc_flag.fit(df[['ip.flags.df']])\n",
        "  flag = enc_flag.transform(df[['ip.flags.df']]).toarray()\n",
        "  \n",
        "  enc_response = OneHotEncoder(handle_unknown='ignore')\n",
        "  enc_response.fit(df[['http.response.code']])\n",
        "  response = enc_response.transform(df[['http.response.code']]).toarray()\n",
        "\n",
        "  # Stack the sequence of input arrays horizontally (i.e. column wise) to make a single array\n",
        "  inputs = np.hstack([df.drop(['srcport', 'dstport', 'tcp.flags', 'ip.proto', 'ip.flags.df', 'http.response.code', 'http.request.method', \n",
        "                 'attack', 'category', 'subcategory'], axis=1).values, tcp, pro, flag, response])\n",
        "  return inputs"
      ],
      "execution_count": null,
      "outputs": []
    },
    {
      "cell_type": "code",
      "metadata": {
        "id": "_5w1We39u5Qa"
      },
      "source": [
        "inputs = encodeFeatures(dfu)\n",
        "np.save(\"drive/My Drive/dataset/inputs.npy\", inputs)"
      ],
      "execution_count": null,
      "outputs": []
    },
    {
      "cell_type": "code",
      "metadata": {
        "id": "5GaCX15vlMZn",
        "outputId": "72a87b46-fa02-44b8-981a-a7f1f3334859",
        "colab": {
          "base_uri": "https://localhost:8080/",
          "height": 70
        }
      },
      "source": [
        "labels = encodeLabels(dfu)\n",
        "np.save(\"drive/My Drive/dataset/labels.npy\", labels)"
      ],
      "execution_count": null,
      "outputs": [
        {
          "output_type": "stream",
          "text": [
            "['Normal' 'DDoS_HTTP' 'DoS_HTTP' 'OS' 'Service' 'DDoS_TCP' 'DoS_TCP'\n",
            " 'DDoS_UDP' 'DoS_UDP' 'Data_Exfiltration' 'Keylogging']\n",
            "[ 8  0  4  9 10  1  5  2  6  3  7]\n"
          ],
          "name": "stdout"
        }
      ]
    },
    {
      "cell_type": "code",
      "metadata": {
        "id": "FaIA7iWanVDB"
      },
      "source": [
        "ports = dfu[['srcport', 'dstport']]\n",
        "np.save(\"drive/My Drive/dataset/ports.npy\", ports.values)"
      ],
      "execution_count": null,
      "outputs": []
    },
    {
      "cell_type": "code",
      "metadata": {
        "id": "oJOkx1UAo738",
        "outputId": "1e4f6f32-f9b5-43d7-ddce-87e95bd6879d",
        "colab": {
          "base_uri": "https://localhost:8080/",
          "height": 87
        }
      },
      "source": [
        "http = encodeHTTP(dfu)\n",
        "np.save(\"drive/My Drive/dataset/http.npy\", http)"
      ],
      "execution_count": null,
      "outputs": [
        {
          "output_type": "stream",
          "text": [
            "[88 90  0 89 91 42 92 86 77 85 68 78 40 79 72 15 27 83 20 10 22 81 87 84\n",
            " 23 19  9 17 76 57 65 71 80 21 49 34 82 70 18  7 39 69 24 74 51 46 63  1\n",
            " 14 48  8 11 58  6 55 50 12  3 36 41 38 35 53 64 56 60 75 28 26  2 43 73\n",
            " 13 29 59 61  5 52 30 33 62 66 54 25 31 67 44 32 37  4 45 47 16]\n"
          ],
          "name": "stdout"
        }
      ]
    },
    {
      "cell_type": "markdown",
      "metadata": {
        "id": "y5JvODa70LP2"
      },
      "source": [
        "##Run model with embedding using functional API"
      ]
    },
    {
      "cell_type": "code",
      "metadata": {
        "id": "0-lM8hsHhLNo"
      },
      "source": [
        "inputs = np.load(\"drive/My Drive/dataset/inputs.npy\")\n",
        "labels = np.load(\"drive/My Drive/dataset/labels.npy\")\n",
        "ports = np.load(\"drive/My Drive/dataset/ports.npy\")\n",
        "http = np.load(\"drive/My Drive/dataset/http.npy\")"
      ],
      "execution_count": null,
      "outputs": []
    },
    {
      "cell_type": "code",
      "metadata": {
        "id": "UgztzLzFTRJt"
      },
      "source": [
        "def plot_acc_loss(acc, loss, val_acc, val_loss):\n",
        "    \n",
        "    #Summarize history for accuracy\n",
        "    plt.plot(acc)\n",
        "    plt.plot(val_acc)\n",
        "    plt.ylim(0.0, 1.0)\n",
        "    plt.plot\n",
        "    plt.title('model accuracy')\n",
        "    plt.ylabel('accuracy')\n",
        "    plt.xlabel('epoch')\n",
        "    plt.legend(['train', 'validation'], loc='upper left')\n",
        "    plt.show()\n",
        "    #Summarize history for loss\n",
        "    plt.plot(loss)\n",
        "    plt.plot(val_loss)\n",
        "    plt.title('model loss')\n",
        "    plt.ylabel('loss')\n",
        "    plt.xlabel('epoch')\n",
        "    plt.legend(['train', 'validation'], loc='upper left')\n",
        "    plt.show()\n",
        "    return None"
      ],
      "execution_count": null,
      "outputs": []
    },
    {
      "cell_type": "code",
      "metadata": {
        "id": "nlIclsEbrEme",
        "outputId": "edcdcbd9-fe64-40ec-ede2-f1cc476a4e43",
        "colab": {
          "base_uri": "https://localhost:8080/",
          "height": 105
        }
      },
      "source": [
        "from sklearn.model_selection import train_test_split\n",
        "from sklearn.metrics import confusion_matrix\n",
        "from sklearn.preprocessing import MinMaxScaler\n",
        "\n",
        "tf.keras.backend.clear_session()\n",
        "tf.random.set_seed(51)\n",
        "np.random.seed(51)\n",
        "\n",
        "# Change labels\n",
        "m = {0:1, 1:1, 2:1, 4:1, 5:1, 6:1, 8:0, 7:2, 3:2, 9:3, 10:3}\n",
        "labels = np.array([m[i] for i in list(labels)])\n",
        "print(np.unique(labels))\n",
        "\n",
        "# Obtain shape\n",
        "input_shape = inputs.shape[1]\n",
        "port_shape = ports.shape[1]\n",
        "print(inputs.shape, labels.shape, ports.shape, http.shape)\n",
        "\n",
        "# Split the data set into training, validation and test\n",
        "# Data is split in a stratified fashion\n",
        "X_train, X_test, P_train, P_test, H_train, H_test, y_train, y_test = train_test_split(inputs, ports, http, labels, test_size=0.2, stratify=labels, random_state=42)\n",
        "\n",
        "del inputs, ports, http, labels\n",
        "X_train, X_val, P_train, P_val, H_train, H_val, y_train, y_val = train_test_split(X_train, P_train, H_train, y_train, test_size=0.2, stratify=y_train, random_state=42)\n",
        "\n",
        "# Feature scaling\n",
        "scaler = MinMaxScaler(feature_range=(-1,1))\n",
        "scaler.fit(X_train)\n",
        "X_train = scaler.transform(X_train)\n",
        "X_val = scaler.transform(X_val)\n",
        "X_test = scaler.transform(X_test)\n",
        "\n",
        "# Introduce weights for unbalanced classes\n",
        "u, indices = np.unique(y_train, return_counts=True)\n",
        "print(u)\n",
        "print(indices)\n",
        "\n",
        "class_weight = {}\n",
        "for a,b in zip(list(u),list(1/(indices/indices.max()+0.01))):\n",
        "    class_weight[a] = b\n",
        "print(class_weight)"
      ],
      "execution_count": null,
      "outputs": [
        {
          "output_type": "stream",
          "text": [
            "[0 1 2 3]\n",
            "(9163751, 56) (9163751,) (9163751, 2) (9163751,)\n",
            "[0 1 2 3]\n",
            "[1627921 2867248  200381 1169250]\n",
            "{0: 1.7308096612815356, 1: 0.9900990099009901, 2: 12.517810251125633, 3: 2.393517149790861}\n"
          ],
          "name": "stdout"
        }
      ]
    },
    {
      "cell_type": "code",
      "metadata": {
        "id": "ztRsZsagW9i6",
        "outputId": "76fd700c-afdc-4f8b-d473-5194986a2769",
        "colab": {
          "base_uri": "https://localhost:8080/",
          "height": 1000
        }
      },
      "source": [
        "port_embed_dim = 16\n",
        "port_dim = 65537 #input_dim: 0-65535 + 65536 (encoded for none)\n",
        "\n",
        "http_embed_dim = 4\n",
        "http_dim = 93 #input_dim\n",
        "\n",
        "nph_input = tf.keras.Input(shape=(input_shape,), name='others')\n",
        "p_input = tf.keras.Input(shape=(port_shape,), name='ports')\n",
        "h_input = tf.keras.Input(shape=(), name='http')\n",
        "\n",
        "p_feature = tf.keras.layers.Embedding(port_dim, port_embed_dim, name='embedding_port')(p_input)\n",
        "p_feature = tf.keras.layers.GlobalAveragePooling1D()(p_feature)\n",
        "\n",
        "h_feature = tf.keras.layers.Embedding(http_dim, http_embed_dim, name='embedding_http')(h_input)\n",
        "\n",
        "merge = tf.keras.layers.concatenate([p_feature, h_feature, nph_input], name='merging')\n",
        "\n",
        "hidden1 = tf.keras.layers.Dense(512, activation='relu', name='hidden1')(merge)\n",
        "hidden2 = tf.keras.layers.Dense(512, activation='relu', name='hidden2')(hidden1)\n",
        "hidden3 = tf.keras.layers.Dense(512, activation='relu', name='hidden3')(hidden2)\n",
        "classif = tf.keras.layers.Dense(4, activation='softmax', name='output')(hidden3)\n",
        "\n",
        "model = tf.keras.Model(inputs=[p_input, h_input, nph_input], outputs=classif)\n",
        "\n",
        "model.summary()\n",
        "tf.keras.utils.plot_model(model, 'multi_input.png', show_shapes=True)"
      ],
      "execution_count": null,
      "outputs": [
        {
          "output_type": "stream",
          "text": [
            "Model: \"model\"\n",
            "__________________________________________________________________________________________________\n",
            "Layer (type)                    Output Shape         Param #     Connected to                     \n",
            "==================================================================================================\n",
            "ports (InputLayer)              [(None, 2)]          0                                            \n",
            "__________________________________________________________________________________________________\n",
            "embedding_port (Embedding)      (None, 2, 16)        1048592     ports[0][0]                      \n",
            "__________________________________________________________________________________________________\n",
            "http (InputLayer)               [(None,)]            0                                            \n",
            "__________________________________________________________________________________________________\n",
            "global_average_pooling1d (Globa (None, 16)           0           embedding_port[0][0]             \n",
            "__________________________________________________________________________________________________\n",
            "embedding_http (Embedding)      (None, 4)            372         http[0][0]                       \n",
            "__________________________________________________________________________________________________\n",
            "others (InputLayer)             [(None, 56)]         0                                            \n",
            "__________________________________________________________________________________________________\n",
            "merging (Concatenate)           (None, 76)           0           global_average_pooling1d[0][0]   \n",
            "                                                                 embedding_http[0][0]             \n",
            "                                                                 others[0][0]                     \n",
            "__________________________________________________________________________________________________\n",
            "hidden1 (Dense)                 (None, 512)          39424       merging[0][0]                    \n",
            "__________________________________________________________________________________________________\n",
            "hidden2 (Dense)                 (None, 512)          262656      hidden1[0][0]                    \n",
            "__________________________________________________________________________________________________\n",
            "hidden3 (Dense)                 (None, 512)          262656      hidden2[0][0]                    \n",
            "__________________________________________________________________________________________________\n",
            "output (Dense)                  (None, 4)            2052        hidden3[0][0]                    \n",
            "==================================================================================================\n",
            "Total params: 1,615,752\n",
            "Trainable params: 1,615,752\n",
            "Non-trainable params: 0\n",
            "__________________________________________________________________________________________________\n"
          ],
          "name": "stdout"
        },
        {
          "output_type": "execute_result",
          "data": {
            "image/png": "[encoded data removed]",
            "text/plain": [
              "<IPython.core.display.Image object>"
            ]
          },
          "metadata": {
            "tags": []
          },
          "execution_count": 6
        }
      ]
    },
    {
      "cell_type": "markdown",
      "metadata": {
        "id": "Jsqoc0yNT1lS"
      },
      "source": [
        "####Monitor training loss"
      ]
    },
    {
      "cell_type": "code",
      "metadata": {
        "id": "R1rkIs2cX443",
        "outputId": "bd335332-2642-4878-aa12-e5c932995733",
        "colab": {
          "base_uri": "https://localhost:8080/",
          "height": 598
        }
      },
      "source": [
        "checkpoint_path = \"drive/My Drive/dataset/model_checkpoint/weights_best_loss.hdf5\"\n",
        "mnn_callbacks = [tf.keras.callbacks.EarlyStopping(monitor='loss', patience=3, verbose=1), \n",
        "                 tf.keras.callbacks.ModelCheckpoint(checkpoint_path, monitor='loss', save_best_only=True, verbose=1, mode=\"min\")]\n",
        "\n",
        "model.compile(optimizer='adam', loss='sparse_categorical_crossentropy', metrics=['accuracy'])\n",
        "history = model.fit({'ports': P_train, 'http': H_train, 'others': X_train}, y_train, \n",
        "          batch_size=128, epochs=10, validation_data=({'ports': P_val, 'http': H_val, 'others': X_val}, y_val), \n",
        "          class_weight=class_weight, callbacks=mnn_callbacks)"
      ],
      "execution_count": null,
      "outputs": [
        {
          "output_type": "stream",
          "text": [
            "Epoch 1/10\n",
            "45818/45819 [============================>.] - ETA: 0s - loss: 29.0934 - accuracy: 0.8817\n",
            "Epoch 00001: loss improved from -inf to 29.09294, saving model to drive/My Drive/dataset/model_checkpoint/weights_best_loss.hdf5\n",
            "45819/45819 [==============================] - 909s 20ms/step - loss: 29.0929 - accuracy: 0.8817 - val_loss: 0.1416 - val_accuracy: 0.9719\n",
            "Epoch 2/10\n",
            "45818/45819 [============================>.] - ETA: 0s - loss: 0.2910 - accuracy: 0.9648\n",
            "Epoch 00002: loss did not improve from 29.09294\n",
            "45819/45819 [==============================] - 907s 20ms/step - loss: 0.2910 - accuracy: 0.9648 - val_loss: 0.1018 - val_accuracy: 0.9700\n",
            "Epoch 3/10\n",
            "45818/45819 [============================>.] - ETA: 0s - loss: 0.1855 - accuracy: 0.9739\n",
            "Epoch 00003: loss did not improve from 29.09294\n",
            "45819/45819 [==============================] - 962s 21ms/step - loss: 0.1855 - accuracy: 0.9739 - val_loss: 0.0678 - val_accuracy: 0.9808\n",
            "Epoch 4/10\n",
            "45818/45819 [============================>.] - ETA: 0s - loss: 0.1488 - accuracy: 0.9763\n",
            "Epoch 00004: loss did not improve from 29.09294\n",
            "45819/45819 [==============================] - 946s 21ms/step - loss: 0.1488 - accuracy: 0.9763 - val_loss: 0.2739 - val_accuracy: 0.9460\n",
            "Epoch 5/10\n",
            "45819/45819 [==============================] - ETA: 0s - loss: 0.1389 - accuracy: 0.9781\n",
            "Epoch 00005: loss did not improve from 29.09294\n",
            "45819/45819 [==============================] - 938s 20ms/step - loss: 0.1389 - accuracy: 0.9781 - val_loss: 0.0524 - val_accuracy: 0.9843\n",
            "Epoch 6/10\n",
            "45818/45819 [============================>.] - ETA: 0s - loss: 0.2033 - accuracy: 0.9744\n",
            "Epoch 00006: loss did not improve from 29.09294\n",
            "45819/45819 [==============================] - 920s 20ms/step - loss: 0.2033 - accuracy: 0.9744 - val_loss: 0.2247 - val_accuracy: 0.9155\n",
            "Epoch 7/10\n",
            "45818/45819 [============================>.] - ETA: 0s - loss: 0.1969 - accuracy: 0.9705\n",
            "Epoch 00007: loss did not improve from 29.09294\n",
            "45819/45819 [==============================] - 913s 20ms/step - loss: 0.1969 - accuracy: 0.9705 - val_loss: 0.0708 - val_accuracy: 0.9800\n",
            "Epoch 8/10\n",
            "45819/45819 [==============================] - ETA: 0s - loss: 2.0274 - accuracy: 0.4523\n",
            "Epoch 00008: loss did not improve from 29.09294\n",
            "45819/45819 [==============================] - 902s 20ms/step - loss: 2.0274 - accuracy: 0.4523 - val_loss: 1.2731 - val_accuracy: 0.5049\n",
            "Epoch 00008: early stopping\n"
          ],
          "name": "stdout"
        }
      ]
    },
    {
      "cell_type": "code",
      "metadata": {
        "id": "Hj-FM8gCirTW",
        "outputId": "1ed80ebb-7f5b-4332-e6ec-7847c5c3027b",
        "colab": {
          "base_uri": "https://localhost:8080/",
          "height": 123
        }
      },
      "source": [
        "model.load_weights(checkpoint_path)\n",
        "test_score = model.evaluate({'ports': P_test, 'http': H_test, 'others': X_test}, y_test, batch_size=128, verbose=2)\n",
        "print(test_score[0], test_score[1])\n",
        "\n",
        "# Return the indices of maximum values along an axis (matching classes)\n",
        "cnf_matrix = confusion_matrix(y_test, np.argmax(model.predict({'ports': P_test, 'http': H_test, 'others': X_test}), axis=-1)) \n",
        "cnf_matrix"
      ],
      "execution_count": null,
      "outputs": [
        {
          "output_type": "stream",
          "text": [
            "14319/14319 - 41s - loss: 0.1416 - accuracy: 0.9718\n",
            "0.14163251221179962 0.971756637096405\n"
          ],
          "name": "stdout"
        },
        {
          "output_type": "execute_result",
          "data": {
            "text/plain": [
              "array([[507328,   1244,      0,    153],\n",
              "       [  6692, 879389,      3,   9931],\n",
              "       [  1548,   1797,  59275,      0],\n",
              "       [   534,  29826,     35, 334996]])"
            ]
          },
          "metadata": {
            "tags": []
          },
          "execution_count": 9
        }
      ]
    },
    {
      "cell_type": "code",
      "metadata": {
        "id": "mjAn9SAHUAHE",
        "outputId": "adb68351-71b0-4410-cc5f-64dca7c46970",
        "colab": {
          "base_uri": "https://localhost:8080/",
          "height": 573
        }
      },
      "source": [
        "plot_acc_loss(history.history['accuracy'], history.history['loss'], history.history['val_accuracy'], history.history['val_loss'])"
      ],
      "execution_count": null,
      "outputs": [
        {
          "output_type": "display_data",
          "data": {
            "image/png": "[encoded data removed]",
            "text/plain": [
              "<Figure size 432x288 with 1 Axes>"
            ]
          },
          "metadata": {
            "tags": [],
            "needs_background": "light"
          }
        },
        {
          "output_type": "display_data",
          "data": {
            "image/png": "[encoded data removed]",
            "text/plain": [
              "<Figure size 432x288 with 1 Axes>"
            ]
          },
          "metadata": {
            "tags": [],
            "needs_background": "light"
          }
        }
      ]
    },
    {
      "cell_type": "markdown",
      "metadata": {
        "id": "OQjlEQ3kS7O-"
      },
      "source": [
        "####Retrieve weights"
      ]
    },
    {
      "cell_type": "code",
      "metadata": {
        "id": "N1Fm1UNIc6j3"
      },
      "source": [
        "checkpoint_path = \"drive/My Drive/dataset/model_checkpoint/weights_scaler_add_layer_delr_loss.hdf5\"\n",
        "adam = tf.keras.optimizers.Adam(lr=0.0001)\n",
        "model.compile(optimizer=adam, loss='sparse_categorical_crossentropy', metrics=['accuracy'])\n",
        "model.load_weights(checkpoint_path)"
      ],
      "execution_count": null,
      "outputs": []
    },
    {
      "cell_type": "code",
      "metadata": {
        "id": "q0zyg56Ce6Zd",
        "outputId": "ce8870b4-e56a-413d-d213-7e394603a583",
        "colab": {
          "base_uri": "https://localhost:8080/",
          "height": 211
        }
      },
      "source": [
        "model.layers"
      ],
      "execution_count": null,
      "outputs": [
        {
          "output_type": "execute_result",
          "data": {
            "text/plain": [
              "[<tensorflow.python.keras.engine.input_layer.InputLayer at 0x7fec178cb4a8>,\n",
              " <tensorflow.python.keras.layers.embeddings.Embedding at 0x7febffbe34a8>,\n",
              " <tensorflow.python.keras.engine.input_layer.InputLayer at 0x7febffbe3320>,\n",
              " <tensorflow.python.keras.layers.pooling.GlobalAveragePooling1D at 0x7febffbe3828>,\n",
              " <tensorflow.python.keras.layers.embeddings.Embedding at 0x7febffbe3ef0>,\n",
              " <tensorflow.python.keras.engine.input_layer.InputLayer at 0x7fec178cb438>,\n",
              " <tensorflow.python.keras.layers.merge.Concatenate at 0x7fec178cb358>,\n",
              " <tensorflow.python.keras.layers.core.Dense at 0x7febffc06c88>,\n",
              " <tensorflow.python.keras.layers.core.Dense at 0x7fec07695ef0>,\n",
              " <tensorflow.python.keras.layers.core.Dense at 0x7fec076a2470>,\n",
              " <tensorflow.python.keras.layers.core.Dense at 0x7fec076b3f28>]"
            ]
          },
          "metadata": {
            "tags": []
          },
          "execution_count": 18
        }
      ]
    },
    {
      "cell_type": "code",
      "metadata": {
        "id": "uDgg8sqko6Oz",
        "outputId": "c235b965-6438-4a12-f5c0-daeff566b76f",
        "colab": {
          "base_uri": "https://localhost:8080/",
          "height": 52
        }
      },
      "source": [
        "#Retrieve weights\n",
        "weight_port = model.layers[1].get_weights()[0]\n",
        "print(weight_port.shape) # shape: (port_size, embedding_dim)\n",
        "\n",
        "weight_http = model.layers[4].get_weights()[0]\n",
        "print(weight_http.shape) # shape: (http_size, embedding_dim)"
      ],
      "execution_count": null,
      "outputs": [
        {
          "output_type": "stream",
          "text": [
            "(65537, 16)\n",
            "(93, 4)\n"
          ],
          "name": "stdout"
        }
      ]
    }
  ]
}